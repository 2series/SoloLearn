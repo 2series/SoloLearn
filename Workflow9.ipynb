{
 "cells": [
  {
   "cell_type": "code",
   "execution_count": 1,
   "metadata": {},
   "outputs": [
    {
     "name": "stdout",
     "output_type": "stream",
     "text": [
      "The Zen of Python, by Tim Peters\n",
      "\n",
      "Beautiful is better than ugly.\n",
      "Explicit is better than implicit.\n",
      "Simple is better than complex.\n",
      "Complex is better than complicated.\n",
      "Flat is better than nested.\n",
      "Sparse is better than dense.\n",
      "Readability counts.\n",
      "Special cases aren't special enough to break the rules.\n",
      "Although practicality beats purity.\n",
      "Errors should never pass silently.\n",
      "Unless explicitly silenced.\n",
      "In the face of ambiguity, refuse the temptation to guess.\n",
      "There should be one-- and preferably only one --obvious way to do it.\n",
      "Although that way may not be obvious at first unless you're Dutch.\n",
      "Now is better than never.\n",
      "Although never is often better than *right* now.\n",
      "If the implementation is hard to explain, it's a bad idea.\n",
      "If the implementation is easy to explain, it may be a good idea.\n",
      "Namespaces are one honking great idea -- let's do more of those!\n"
     ]
    }
   ],
   "source": [
    "#The Zen of Python\n",
    "\n",
    "#Writing programs that actually do what they are supposed to do is just one component of being\n",
    "#a good Python programmer.\n",
    "#It's also important to write clean code that is easily understood, even weeks after you've\n",
    "#written it.\n",
    "\n",
    "#One way of doing this is to follow the Zen of Python, a somewhat tongue-in-cheek set of\n",
    "#principles that serves as a guide to programming the Pythoneer way. \n",
    "#Use the following code to access the Zen of Python.\n",
    "\n",
    "import this"
   ]
  },
  {
   "cell_type": "code",
   "execution_count": 2,
   "metadata": {},
   "outputs": [],
   "source": [
    "#The Zen of Python\n",
    "\n",
    "#Some lines in the Zen of Python may need more explanation.\n",
    "#Explicit is better than implicit: It is best to spell out exactly what your code is doing.\n",
    "#This is why adding a numeric string to an integer requires explicit conversion, rather\n",
    "#than having it happen behind the scenes, as it does in other languages.\n",
    "#Flat is better than nested: Heavily nested structures (lists of lists, of lists,\n",
    "#and on and on…) should be avoided.\n",
    "#Errors should never pass silently: In general, when an error occurs, you should output\n",
    "#some sort of error message, rather than ignoring it.\n",
    "\n",
    "#There are 20 principles in the Zen of Python, but only 19 lines of text. \n",
    "#The 20th principle is a matter of opinion, but our interpretation is that the blank\n",
    "#line means \"Use whitespace\"."
   ]
  },
  {
   "cell_type": "code",
   "execution_count": 3,
   "metadata": {},
   "outputs": [],
   "source": [
    "#PEP\n",
    "\n",
    "#Python Enhancement Proposals (PEP) are suggestions for improvements to the language,\n",
    "#made by experienced Python developers. \n",
    "#PEP 8 is a style guide on the subject of writing readable code. \n",
    "#It contains a number of guidelines in reference to variable names, which are summarized here:\n",
    "# - modules should have short, all-lowercase names; \n",
    "# - class names should be in the CapWords style; \n",
    "# - most variables and function names should be lowercase_with_underscores; \n",
    "# - constants (variables that never change value) should be CAPS_WITH_UNDERSCORES;\n",
    "# - names that would clash with Python keywords (such as 'class' or 'if') should have a trailing underscore.\n",
    "\n",
    "#PEP 8 also recommends using spaces around operators and after commas to increase readability."
   ]
  },
  {
   "cell_type": "code",
   "execution_count": 4,
   "metadata": {},
   "outputs": [],
   "source": [
    "#PEP 8\n",
    "\n",
    "#Other PEP 8 suggestions include the following:\n",
    "# - lines shouldn't be longer than 80 characters; \n",
    "# - 'from module import *' should be avoided; \n",
    "# - there should only be one statement per line.\n",
    "\n",
    "#It also suggests that you use spaces, rather than tabs, to indent.\n",
    "#However, to some extent, this is a matter of personal preference.\n",
    "#If you use spaces, only use 4 per line. It's more important to choose one and stick to it.\n",
    "\n",
    "#The most important advice in the PEP is to ignore it when it makes sense to do so. \n",
    "#Don't bother with following PEP suggestions when it would cause your code to be less readable;\n",
    "#inconsistent with the surrounding code; or not backwards compatible.\n",
    "#However, by and large, following PEP 8 will greatly enhance the quality of your code.\n"
   ]
  },
  {
   "cell_type": "code",
   "execution_count": 5,
   "metadata": {},
   "outputs": [
    {
     "name": "stdout",
     "output_type": "stream",
     "text": [
      "1\n",
      "(2, 3, 4, 5)\n"
     ]
    }
   ],
   "source": [
    "#Function Arguments\n",
    "\n",
    "#Python allows to have function with varying number of arguments.\n",
    "#Using *args as a function parameter enables you to pass an arbitrary number of arguments\n",
    "#to that function. The arguments are then accessible as the tuple args in the body of the\n",
    "#function. \n",
    "#Example:\n",
    "\n",
    "def function(named_arg, *args):\n",
    "   print(named_arg)\n",
    "   print(args)\n",
    "\n",
    "function(1, 2, 3, 4, 5)"
   ]
  },
  {
   "cell_type": "code",
   "execution_count": 6,
   "metadata": {},
   "outputs": [],
   "source": [
    "#The parameter *args must come after the named parameters to a function.\n",
    "#The name args is just a convention; you can choose to use another."
   ]
  },
  {
   "cell_type": "code",
   "execution_count": 7,
   "metadata": {},
   "outputs": [
    {
     "name": "stdout",
     "output_type": "stream",
     "text": [
      "spam\n",
      "egg\n"
     ]
    }
   ],
   "source": [
    "#Default Values\n",
    "\n",
    "#Named parameters to a function can be made optional by giving them a default value. \n",
    "#These must come after named parameters without a default value.\n",
    "#Example:\n",
    "    \n",
    "def function(x, y, food=\"spam\"):\n",
    "   print(food)\n",
    "\n",
    "function(1, 2)\n",
    "function(3, 4, \"egg\")"
   ]
  },
  {
   "cell_type": "code",
   "execution_count": 8,
   "metadata": {},
   "outputs": [],
   "source": [
    "#In case the argument is passed in, the default value is ignored. \n",
    "#If the argument is not passed in, the default value is used."
   ]
  },
  {
   "cell_type": "code",
   "execution_count": 9,
   "metadata": {},
   "outputs": [
    {
     "name": "stdout",
     "output_type": "stream",
     "text": [
      "{'a': 7, 'b': 8}\n"
     ]
    }
   ],
   "source": [
    "#Function Arguments\n",
    "\n",
    "# **kwargs (standing for keyword arguments) allows you to handle named arguments that you\n",
    "# have not defined in advance.\n",
    "# The keyword arguments return a dictionary in which the keys are the argument names,\n",
    "# and the values are the argument values.\n",
    "#Example:\n",
    "    \n",
    "def my_func(x, y=7, *args, **kwargs):\n",
    "   print(kwargs)\n",
    "\n",
    "my_func(2, 3, 4, 5, 6, a=7, b=8)"
   ]
  },
  {
   "cell_type": "code",
   "execution_count": 10,
   "metadata": {},
   "outputs": [],
   "source": [
    "#The arguments returned by **kwargs are not included in *args."
   ]
  },
  {
   "cell_type": "code",
   "execution_count": 11,
   "metadata": {},
   "outputs": [
    {
     "name": "stdout",
     "output_type": "stream",
     "text": [
      "1\n",
      "2\n",
      "3\n"
     ]
    }
   ],
   "source": [
    "#Tuple Unpacking\n",
    "\n",
    "#Tuple unpacking allows you to assign each item in an iterable (often a tuple) to a variable.\n",
    "#Example:\n",
    "\n",
    "numbers = (1, 2, 3)\n",
    "a, b, c = numbers\n",
    "print(a)\n",
    "print(b)\n",
    "print(c)"
   ]
  },
  {
   "cell_type": "code",
   "execution_count": 12,
   "metadata": {},
   "outputs": [],
   "source": [
    "#This can be also used to swap variables by doing a, b = b, a , since b, a on the\n",
    "#right hand side forms the tuple (b, a) which is then unpacked."
   ]
  },
  {
   "cell_type": "code",
   "execution_count": 13,
   "metadata": {},
   "outputs": [
    {
     "name": "stdout",
     "output_type": "stream",
     "text": [
      "2\n",
      "1\n"
     ]
    }
   ],
   "source": [
    "x, y = [1, 2]\n",
    "x, y = y, x\n",
    "print(x)\n",
    "print(y)"
   ]
  },
  {
   "cell_type": "code",
   "execution_count": 14,
   "metadata": {},
   "outputs": [
    {
     "name": "stdout",
     "output_type": "stream",
     "text": [
      "1\n",
      "2\n",
      "[3, 4, 5, 6, 7, 8]\n",
      "9\n"
     ]
    }
   ],
   "source": [
    "#Tuple Unpacking\n",
    "\n",
    "#A variable that is prefaced with an asterisk (*) takes all values from the iterable \n",
    "#that are left over from the other variables.\n",
    "#Example:\n",
    "\n",
    "a, b, *c, d = [1, 2, 3, 4, 5, 6, 7, 8, 9]\n",
    "print(a)\n",
    "print(b)\n",
    "print(c)\n",
    "print(d)"
   ]
  },
  {
   "cell_type": "code",
   "execution_count": 15,
   "metadata": {},
   "outputs": [
    {
     "name": "stdout",
     "output_type": "stream",
     "text": [
      "14\n"
     ]
    }
   ],
   "source": [
    "a, b, c, d, *e, f, g = range(20)\n",
    "print(len(e))"
   ]
  },
  {
   "cell_type": "code",
   "execution_count": 16,
   "metadata": {},
   "outputs": [
    {
     "name": "stdout",
     "output_type": "stream",
     "text": [
      "1\n"
     ]
    }
   ],
   "source": [
    "#Ternary Operator\n",
    "\n",
    "#Conditional expressions provide the functionality of if statements while using less code.\n",
    "#They shouldn't be overused, as they can easily reduce readability, but they are often\n",
    "#useful when assigning variables. \n",
    "#Conditional expressions are also known as applications of the ternary operator.\n",
    "#Example:\n",
    "\n",
    "a = 7\n",
    "b = 1 if a >= 5 else 42\n",
    "print(b)"
   ]
  },
  {
   "cell_type": "code",
   "execution_count": 17,
   "metadata": {},
   "outputs": [],
   "source": [
    "#The ternary operator is so called because, unlike most operators, it takes three arguments."
   ]
  },
  {
   "cell_type": "code",
   "execution_count": 18,
   "metadata": {},
   "outputs": [
    {
     "name": "stdout",
     "output_type": "stream",
     "text": [
      "Unbroken 1\n"
     ]
    }
   ],
   "source": [
    "#else\n",
    "\n",
    "#The else statement is most commonly used along with the if statement,\n",
    "#but it can also follow a for or while loop, which gives it a different meaning. \n",
    "#With the for or while loop, the code within it is called if the loop finishes normally \n",
    "#(when a break statement does not cause an exit from the loop).\n",
    "\n",
    "#Example:\n",
    "\n",
    "for i in range(10):\n",
    "   if i == 999:\n",
    "      break\n",
    "else:\n",
    "   print(\"Unbroken 1\")\n",
    "\n",
    "for i in range(10):\n",
    "   if i == 5:\n",
    "      break\n",
    "else: \n",
    "   print(\"Unbroken 2\")"
   ]
  },
  {
   "cell_type": "code",
   "execution_count": 19,
   "metadata": {},
   "outputs": [],
   "source": [
    "#The first for loop executes normally, resulting in the printing of \"Unbroken 1\".\n",
    "#The second loop exits due to a break, which is why it's else statement is not executed."
   ]
  },
  {
   "cell_type": "code",
   "execution_count": 20,
   "metadata": {},
   "outputs": [
    {
     "name": "stdout",
     "output_type": "stream",
     "text": [
      "7\n",
      "7\n",
      "7\n",
      "7\n",
      "7\n",
      "7\n",
      "6\n"
     ]
    }
   ],
   "source": [
    "for i in range(10):\n",
    "    if i > 5:\n",
    "        print(i)\n",
    "        break\n",
    "    else:\n",
    "        print('7')"
   ]
  },
  {
   "cell_type": "code",
   "execution_count": 21,
   "metadata": {},
   "outputs": [
    {
     "name": "stdout",
     "output_type": "stream",
     "text": [
      "1\n",
      "3\n",
      "4\n"
     ]
    }
   ],
   "source": [
    "#else\n",
    "\n",
    "#The else statement can also be used with try/except statements. \n",
    "#In this case, the code within it is only executed if no error occurs in the try statement.\n",
    "#Example:\n",
    "\n",
    "try:\n",
    "   print(1)\n",
    "except ZeroDivisionError:\n",
    "   print(2)\n",
    "else:\n",
    "   print(3)\n",
    "\n",
    "try:\n",
    "   print(1/0)\n",
    "except ZeroDivisionError:\n",
    "   print(4)\n",
    "else:\n",
    "   print(5)"
   ]
  },
  {
   "cell_type": "code",
   "execution_count": 22,
   "metadata": {},
   "outputs": [
    {
     "name": "stdout",
     "output_type": "stream",
     "text": [
      "1\n",
      "3\n"
     ]
    }
   ],
   "source": [
    "try:\n",
    "    print(1)\n",
    "    print(1 + '1' ==2)\n",
    "    print(2)\n",
    "except TypeError:\n",
    "    print(3)\n",
    "else:\n",
    "    print(4)"
   ]
  },
  {
   "cell_type": "code",
   "execution_count": 23,
   "metadata": {},
   "outputs": [
    {
     "name": "stdout",
     "output_type": "stream",
     "text": [
      "This is a script\n"
     ]
    }
   ],
   "source": [
    "# __main__\n",
    "\n",
    "# Most Python code is either a module to be imported, or a script that does something. \n",
    "# However, sometimes it is useful to make a file that can be both imported as a module\n",
    "# and run as a script. \n",
    "# To do this, place script code inside if __name__ == \"__main__\". \n",
    "# This ensures that it won't be run if the file is imported.\n",
    "# Example:\n",
    "\n",
    "def function():\n",
    "   print(\"This is a module function\")\n",
    "\n",
    "if __name__==\"__main__\":\n",
    "   print(\"This is a script\")"
   ]
  },
  {
   "cell_type": "code",
   "execution_count": 24,
   "metadata": {},
   "outputs": [],
   "source": [
    "#When the Python interpreter reads a source file, it executes all of the code \n",
    "#it finds in the file. Before executing the code, it defines a few special variables. \n",
    "#For example, if the Python interpreter is running that module (the source file) as the\n",
    "#main program, it sets the special __name__ variable to have a value \"__main__\". \n",
    "#If this file is being imported from another module, __name__ will be set to the module's name."
   ]
  },
  {
   "cell_type": "code",
   "execution_count": 25,
   "metadata": {},
   "outputs": [],
   "source": [
    "x = 1\n",
    "y = x\n",
    "if __name__==\"__main__\":\n",
    "    z = 3"
   ]
  },
  {
   "cell_type": "code",
   "execution_count": 26,
   "metadata": {},
   "outputs": [
    {
     "name": "stdout",
     "output_type": "stream",
     "text": [
      "This is a script\n"
     ]
    }
   ],
   "source": [
    "# __main__\n",
    "\n",
    "# If we save the code from our previous example as a file called sololearn.py, we can then import it to another script as a module, using the name sololearn.\n",
    "# sololearn.py\n",
    "\n",
    "def function():\n",
    "   print(\"This is a module function\")\n",
    "\n",
    "if __name__==\"__main__\":\n",
    "   print(\"This is a script\") "
   ]
  },
  {
   "cell_type": "code",
   "execution_count": 27,
   "metadata": {},
   "outputs": [],
   "source": [
    "#Major 3rd-Party Libraries\n",
    "\n",
    "#The Python standard library alone contains extensive functionality. \n",
    "#However, some tasks require the use of third-party libraries. Some major third-party libraries:\n",
    "#Django: The most frequently used web framework written in Python, Django powers websites that include Instagram and Disqus. It has many useful features, and whatever features it lacks are covered by extension packages. \n",
    "#CherryPy and Flask are also popular web frameworks.\n",
    "\n",
    "#For scraping data from websites, the library BeautifulSoup is very useful, and leads to better results than building your own scraper with regular expressions.\n"
   ]
  },
  {
   "cell_type": "code",
   "execution_count": 28,
   "metadata": {},
   "outputs": [],
   "source": [
    "#Major 3rd-Party Libraries\n",
    "\n",
    "#A number of third-party modules are available that make it much easier to carry out scientific and mathematical computing with Python.\n",
    "#The module matplotlib allows you to create graphs based on data in Python. \n",
    "#The module NumPy allows for the use of multidimensional arrays that are much faster than the native Python solution of nested lists. It also contains functions to perform mathematical operations such as matrix transformations on the arrays. \n",
    "#The library SciPy contains numerous extensions to the functionality of NumPy.\n",
    "\n",
    "#Python can also be used for game development. \n",
    "#Usually, it is used as a scripting language for games written in other languages, but it can be used to make games by itself. \n"
   ]
  },
  {
   "cell_type": "code",
   "execution_count": 29,
   "metadata": {},
   "outputs": [],
   "source": [
    "#For 3D games, the library Panda3D can be used. For 2D games, you can use pygame."
   ]
  },
  {
   "cell_type": "code",
   "execution_count": 30,
   "metadata": {},
   "outputs": [
    {
     "ename": "SyntaxError",
     "evalue": "invalid syntax (<ipython-input-30-28568785ec6e>, line 9)",
     "output_type": "error",
     "traceback": [
      "\u001b[0;36m  File \u001b[0;32m\"<ipython-input-30-28568785ec6e>\"\u001b[0;36m, line \u001b[0;32m9\u001b[0m\n\u001b[0;31m    SoloLearn/\u001b[0m\n\u001b[0m              ^\u001b[0m\n\u001b[0;31mSyntaxError\u001b[0m\u001b[0;31m:\u001b[0m invalid syntax\n"
     ]
    }
   ],
   "source": [
    "#Packaging\n",
    "\n",
    "#In Python, the term packaging refers to putting modules you have written in a standard format, so that other programmers can install and use them with ease. \n",
    "#This involves use of the modules setuptools and distutils. \n",
    "#The first step in packaging is to organize existing files correctly. Place all of the files you want to put in a library in the same parent directory. This directory should also contain a file called __init__.py, which can be blank but must be present in the directory.\n",
    "#This directory goes into another directory containing the readme and license, as well as an important file called setup.py. \n",
    "#Example directory structure:\n",
    "\n",
    "SoloLearn/\n",
    "   LICENSE.txt\n",
    "   README.txt\n",
    "   setup.py\n",
    "   sololearn/\n",
    "      __init__.py\n",
    "      sololearn.py\n",
    "      sololearn2.py\n"
   ]
  },
  {
   "cell_type": "code",
   "execution_count": null,
   "metadata": {},
   "outputs": [],
   "source": [
    "#Packaging\n",
    "\n",
    "#The next step in packaging is to write the setup.py file. \n",
    "#This contains information necessary to assemble the package so it can be uploaded to PyPI and installed with pip (name, version, etc.).\n",
    "#Example of a setup.py file:\n",
    "\n",
    "from distutils.core import setup\n",
    "\n",
    "setup(\n",
    "   name='SoloLearn', \n",
    "   version='0.1dev',\n",
    "   packages=['sololearn',],\n",
    "   license='MIT', \n",
    "   long_description=open('README.txt').read(),\n",
    ")\n"
   ]
  },
  {
   "cell_type": "code",
   "execution_count": null,
   "metadata": {},
   "outputs": [],
   "source": [
    "#After creating the setup.py file, upload it to PyPI, or use the command line to create a binary distribution (an executable installer).\n",
    "#To build a source distribution, use the command line to navigate to the directory containing setup.py, and run the command python setup.py sdist.\n",
    "#Run python setup.py bdist or, for Windows, python setup.py bdist_wininst to build a binary distribution. \n",
    "#Use python setup.py register, followed by python setup.py sdist upload to upload a package.\n"
   ]
  },
  {
   "cell_type": "code",
   "execution_count": null,
   "metadata": {},
   "outputs": [],
   "source": [
    "#Finally, install a package with python setup.py install."
   ]
  },
  {
   "cell_type": "code",
   "execution_count": null,
   "metadata": {},
   "outputs": [],
   "source": [
    "#Packaging\n",
    "\n",
    "#The previous lesson covered packaging modules for use by other Python programmers.\n",
    "#However, many computer users who are not programmers do not have Python installed.\n",
    "#Therefore, it is useful to package scripts as executable files for the relevant platform,\n",
    "#such as the Windows or Mac operating systems.\n",
    "#This is not necessary for Linux, as most Linux users do have Python installed,\n",
    "#and are able to run scripts as they are. \n",
    "\n",
    "#For Windows, many tools are available for converting scripts to executables. \n",
    "#For example, py2exe, can be used to package a Python script, along with the libraries \n",
    "#it requires, into a single executable.\n",
    "#PyInstaller and cx_Freeze serve the same purpose.\n"
   ]
  },
  {
   "cell_type": "code",
   "execution_count": null,
   "metadata": {},
   "outputs": [],
   "source": [
    "#For Macs, use py2app, PyInstaller or cx_Freeze."
   ]
  },
  {
   "cell_type": "code",
   "execution_count": null,
   "metadata": {},
   "outputs": [],
   "source": [
    "def func(**kwargs):\n",
    "    print(kwargs[\"zero\"])\n",
    "    \n",
    "func(a = 0, zero = 8)"
   ]
  },
  {
   "cell_type": "code",
   "execution_count": 31,
   "metadata": {},
   "outputs": [
    {
     "ename": "SyntaxError",
     "evalue": "invalid syntax (<ipython-input-31-b9dc9a670ae0>, line 4)",
     "output_type": "error",
     "traceback": [
      "\u001b[0;36m  File \u001b[0;32m\"<ipython-input-31-b9dc9a670ae0>\"\u001b[0;36m, line \u001b[0;32m4\u001b[0m\n\u001b[0;31m    except ZeroDivisionError:\u001b[0m\n\u001b[0m         ^\u001b[0m\n\u001b[0;31mSyntaxError\u001b[0m\u001b[0;31m:\u001b[0m invalid syntax\n"
     ]
    }
   ],
   "source": [
    "try:\n",
    "    if 10 / i == 2.0:\n",
    "        break\n",
    "    except ZeroDivisionError:\n",
    "        print(1)\n",
    "    else:\n",
    "        print(2)\n"
   ]
  },
  {
   "cell_type": "code",
   "execution_count": null,
   "metadata": {},
   "outputs": [],
   "source": []
  }
 ],
 "metadata": {
  "kernelspec": {
   "display_name": "Python 3",
   "language": "python",
   "name": "python3"
  },
  "language_info": {
   "codemirror_mode": {
    "name": "ipython",
    "version": 3
   },
   "file_extension": ".py",
   "mimetype": "text/x-python",
   "name": "python",
   "nbconvert_exporter": "python",
   "pygments_lexer": "ipython3",
   "version": "3.6.4"
  }
 },
 "nbformat": 4,
 "nbformat_minor": 2
}
