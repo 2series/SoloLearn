{
 "cells": [
  {
   "cell_type": "code",
   "execution_count": 1,
   "metadata": {},
   "outputs": [],
   "source": [
    "#Classes\n",
    "\n",
    "#We have previously looked at two paradigms of programming - imperative (using statements, loops, and functions as subroutines), and functional (using pure functions, higher-order functions, and recursion).\n",
    "\n",
    "#Another very popular paradigm is object-oriented programming (OOP).\n",
    "#Objects are created using classes, which are actually the focal point of OOP.\n",
    "#The class describes what the object will be, but is separate from the object itself. In other words, a class can be described as an object's blueprint, description, or definition.\n",
    "#You can use the same class as a blueprint for creating multiple different objects. \n",
    "\n",
    "#Classes are created using the keyword class and an indented block, which contains class methods (which are functions). \n",
    "#Below is an example of a simple class and its objects.\n",
    "\n",
    "class Cat:\n",
    "  def __init__(self, color, legs):\n",
    "    self.color = color\n",
    "    self.legs = legs\n",
    "\n",
    "felix = Cat(\"ginger\", 4)\n",
    "rover = Cat(\"dog-colored\", 4)\n",
    "stumpy = Cat(\"brown\", 3)\n"
   ]
  },
  {
   "cell_type": "code",
   "execution_count": 2,
   "metadata": {},
   "outputs": [
    {
     "name": "stdout",
     "output_type": "stream",
     "text": [
      "ginger\n"
     ]
    }
   ],
   "source": [
    "# __init__\n",
    "\n",
    "#The __init__ method is the most important method in a class. \n",
    "#This is called when an instance (object) of the class is created, using the class name as a function.\n",
    "\n",
    "#All methods must have self as their first parameter, although it isn't explicitly passed, Python adds the self argument to the list for you; you do not need to include it when you call the methods. Within a method definition, self refers to the instance calling the method.\n",
    "\n",
    "#Instances of a class have attributes, which are pieces of data associated with them.\n",
    "#In this example, Cat instances have attributes color and legs. These can be accessed by putting a dot, and the attribute name after an instance. \n",
    "#In an __init__ method, self.attribute can therefore be used to set the initial value of an instance's attributes.\n",
    "#Example:\n",
    "    \n",
    "class Cat:\n",
    "  def __init__(self, color, legs):\n",
    "    self.color = color\n",
    "    self.legs = legs\n",
    "\n",
    "felix = Cat(\"ginger\", 4)\n",
    "print(felix.color)"
   ]
  },
  {
   "cell_type": "code",
   "execution_count": 3,
   "metadata": {},
   "outputs": [
    {
     "name": "stdout",
     "output_type": "stream",
     "text": [
      "Fido\n",
      "Woof!\n"
     ]
    }
   ],
   "source": [
    "#Methods\n",
    "\n",
    "#Classes can have other methods defined to add functionality to them. \n",
    "#Remember, that all methods must have self as their first parameter.\n",
    "#These methods are accessed using the same dot syntax as attributes. \n",
    "#Example:\n",
    "    \n",
    "class Dog:\n",
    "  def __init__(self, name, color):\n",
    "    self.name = name\n",
    "    self.color = color\n",
    "\n",
    "  def bark(self):\n",
    "    print(\"Woof!\")\n",
    "\n",
    "fido = Dog(\"Fido\", \"brown\")\n",
    "print(fido.name)\n",
    "fido.bark()"
   ]
  },
  {
   "cell_type": "code",
   "execution_count": 4,
   "metadata": {},
   "outputs": [
    {
     "ename": "AttributeError",
     "evalue": "'Rectangle' object has no attribute 'color'",
     "output_type": "error",
     "traceback": [
      "\u001b[0;31m---------------------------------------------------------------------------\u001b[0m",
      "\u001b[0;31mAttributeError\u001b[0m                            Traceback (most recent call last)",
      "\u001b[0;32m<ipython-input-4-cee19b452984>\u001b[0m in \u001b[0;36m<module>\u001b[0;34m()\u001b[0m\n\u001b[1;32m     12\u001b[0m \u001b[0;34m\u001b[0m\u001b[0m\n\u001b[1;32m     13\u001b[0m \u001b[0mrect\u001b[0m \u001b[0;34m=\u001b[0m \u001b[0mRectangle\u001b[0m\u001b[0;34m(\u001b[0m\u001b[0;36m7\u001b[0m\u001b[0;34m,\u001b[0m \u001b[0;36m8\u001b[0m\u001b[0;34m)\u001b[0m\u001b[0;34m\u001b[0m\u001b[0m\n\u001b[0;32m---> 14\u001b[0;31m \u001b[0mprint\u001b[0m\u001b[0;34m(\u001b[0m\u001b[0mrect\u001b[0m\u001b[0;34m.\u001b[0m\u001b[0mcolor\u001b[0m\u001b[0;34m)\u001b[0m\u001b[0;34m\u001b[0m\u001b[0m\n\u001b[0m",
      "\u001b[0;31mAttributeError\u001b[0m: 'Rectangle' object has no attribute 'color'"
     ]
    }
   ],
   "source": [
    "#Classes\n",
    "\n",
    "#Trying to access an attribute of an instance that isn't defined causes\n",
    "#an AttributeError. This also applies when you call an undefined method.\n",
    "\n",
    "#Example:\n",
    "\n",
    "class Rectangle: \n",
    "  def __init__(self, width, height):\n",
    "    self.width = width\n",
    "    self.height = height\n",
    "\n",
    "rect = Rectangle(7, 8)\n",
    "print(rect.color)"
   ]
  },
  {
   "cell_type": "code",
   "execution_count": 5,
   "metadata": {},
   "outputs": [
    {
     "name": "stdout",
     "output_type": "stream",
     "text": [
      "brown\n",
      "Woof!\n"
     ]
    }
   ],
   "source": [
    "#Inheritance\n",
    "\n",
    "#Inheritance provides a way to share functionality between classes. \n",
    "#Imagine several classes, Cat, Dog, Rabbit and so on. Although they may differ in some ways (only Dog might have the method bark), they are likely to be similar in others (all having the attributes color and name). \n",
    "#This similarity can be expressed by making them all inherit from a superclass Animal, which contains the shared functionality. \n",
    "#To inherit a class from another class, put the superclass name in parentheses after the class name.\n",
    "#Example:\n",
    "class Animal: \n",
    "  def __init__(self, name, color):\n",
    "    self.name = name\n",
    "    self.color = color\n",
    "\n",
    "class Cat(Animal):\n",
    "  def purr(self):\n",
    "    print(\"Purr...\")\n",
    "        \n",
    "class Dog(Animal):\n",
    "  def bark(self):\n",
    "    print(\"Woof!\")\n",
    "\n",
    "fido = Dog(\"Fido\", \"brown\")\n",
    "print(fido.color)\n",
    "fido.bark()"
   ]
  },
  {
   "cell_type": "code",
   "execution_count": 6,
   "metadata": {},
   "outputs": [
    {
     "name": "stdout",
     "output_type": "stream",
     "text": [
      "Woof\n"
     ]
    }
   ],
   "source": [
    "#Inheritance\n",
    "\n",
    "#A class that inherits from another class is called a subclass.\n",
    "#A class that is inherited from is called a superclass.\n",
    "#If a class inherits from another with the same attributes or methods, it overrides them.\n",
    "\n",
    "class Wolf: \n",
    "  def __init__(self, name, color):\n",
    "    self.name = name\n",
    "    self.color = color\n",
    "\n",
    "  def bark(self):\n",
    "    print(\"Grr...\")\n",
    "\n",
    "class Dog(Wolf):\n",
    "  def bark(self):\n",
    "    print(\"Woof\")\n",
    "        \n",
    "husky = Dog(\"Max\", \"grey\")\n",
    "husky.bark()"
   ]
  },
  {
   "cell_type": "code",
   "execution_count": 7,
   "metadata": {},
   "outputs": [
    {
     "name": "stdout",
     "output_type": "stream",
     "text": [
      "2\n"
     ]
    }
   ],
   "source": [
    "class A:\n",
    "    def method(self):\n",
    "        print(1)\n",
    "class B(A):\n",
    "    def method(self):\n",
    "        print(2)\n",
    "        \n",
    "B().method()"
   ]
  },
  {
   "cell_type": "code",
   "execution_count": 8,
   "metadata": {},
   "outputs": [
    {
     "name": "stdout",
     "output_type": "stream",
     "text": [
      "A method\n",
      "B method\n",
      "C method\n"
     ]
    }
   ],
   "source": [
    "#Inheritance\n",
    "\n",
    "#Inheritance can also be indirect. One class can inherit from another, and\n",
    "#that class can inherit from a third class. \n",
    "#Example:\n",
    "class A:\n",
    "  def method(self):\n",
    "    print(\"A method\")\n",
    "    \n",
    "class B(A):\n",
    "  def another_method(self):\n",
    "    print(\"B method\")\n",
    "    \n",
    "class C(B):\n",
    "  def third_method(self):\n",
    "    print(\"C method\")\n",
    "    \n",
    "c = C()\n",
    "c.method()\n",
    "c.another_method()\n",
    "c.third_method()"
   ]
  },
  {
   "cell_type": "code",
   "execution_count": 9,
   "metadata": {},
   "outputs": [
    {
     "name": "stdout",
     "output_type": "stream",
     "text": [
      "2\n"
     ]
    }
   ],
   "source": [
    "class A:\n",
    "    def a(self):\n",
    "        print(1)\n",
    "class B(A):\n",
    "    def a(self):\n",
    "        print(2)\n",
    "        \n",
    "class C(B):\n",
    "    def c(self):\n",
    "        print(3)\n",
    "        \n",
    "c = C()\n",
    "c.a()"
   ]
  },
  {
   "cell_type": "code",
   "execution_count": 10,
   "metadata": {},
   "outputs": [
    {
     "name": "stdout",
     "output_type": "stream",
     "text": [
      "2\n",
      "1\n"
     ]
    }
   ],
   "source": [
    "#Inheritance\n",
    "\n",
    "#The function super is a useful inheritance-related function that refers to \n",
    "#the parent class. It can be used to find the method with a certain name in\n",
    "#an object's superclass.\n",
    "#Example:\n",
    "class A:\n",
    "  def spam(self):\n",
    "    print(1)\n",
    "\n",
    "class B(A):\n",
    "  def spam(self):\n",
    "    print(2)\n",
    "    super().spam()\n",
    "            \n",
    "B().spam()"
   ]
  },
  {
   "cell_type": "code",
   "execution_count": 11,
   "metadata": {},
   "outputs": [
    {
     "name": "stdout",
     "output_type": "stream",
     "text": [
      "8\n",
      "16\n"
     ]
    }
   ],
   "source": [
    "#Magic Methods\n",
    "\n",
    "#Magic methods are special methods which have double underscores at the beginning\n",
    "#and end of their names. \n",
    "#They are also known as dunders. \n",
    "#So far, the only one we have encountered is __init__, but there are several others. \n",
    "#They are used to create functionality that can't be represented as a normal method. \n",
    "\n",
    "#One common use of them is operator overloading. \n",
    "#This means defining operators for custom classes that allow operators such as + and * to be used on them.\n",
    "#An example magic method is __add__ for +.\n",
    "\n",
    "class Vector2D:\n",
    "  def __init__(self, x, y):\n",
    "    self.x = x\n",
    "    self.y = y\n",
    "  def __add__(self, other):\n",
    "    return Vector2D(self.x + other.x, self.y + other.y)\n",
    "\n",
    "first = Vector2D(5, 7)\n",
    "second = Vector2D(3, 9)\n",
    "result = first + second\n",
    "print(result.x)\n",
    "print(result.y)"
   ]
  },
  {
   "cell_type": "code",
   "execution_count": 12,
   "metadata": {},
   "outputs": [
    {
     "name": "stdout",
     "output_type": "stream",
     "text": [
      "spam\n",
      "============\n",
      "Hello world!\n"
     ]
    }
   ],
   "source": [
    "#Magic Methods\n",
    "\n",
    "#More magic methods for common operators:\n",
    "# __sub__ for -\n",
    "# __mul__ for *\n",
    "# __truediv__ for /\n",
    "# __floordiv__ for //\n",
    "# __mod__ for %\n",
    "# __pow__ for **\n",
    "# __and__ for &\n",
    "# __xor__ for ^\n",
    "# __or__ for |\n",
    "\n",
    "#The expression x + y is translated into x.__add__(y). \n",
    "#However, if x hasn't implemented __add__, and x and y are of different types, then y.__radd__(x) is called. \n",
    "#There are equivalent r methods for all magic methods just mentioned.\n",
    "#Example:\n",
    "\n",
    "class SpecialString:\n",
    "  def __init__(self, cont):\n",
    "    self.cont = cont\n",
    "\n",
    "  def __truediv__(self, other):\n",
    "    line = \"=\" * len(other.cont)\n",
    "    return \"\\n\".join([self.cont, line, other.cont])\n",
    "\n",
    "spam = SpecialString(\"spam\")\n",
    "hello = SpecialString(\"Hello world!\")\n",
    "print(spam / hello)"
   ]
  },
  {
   "cell_type": "code",
   "execution_count": 13,
   "metadata": {},
   "outputs": [
    {
     "name": "stdout",
     "output_type": "stream",
     "text": [
      ">spam>eggs\n",
      "e>spam>ggs\n",
      "eg>spam>gs\n",
      "egg>spam>s\n",
      "eggs>spam>\n"
     ]
    }
   ],
   "source": [
    "#Magic Methods\n",
    "\n",
    "#Python also provides magic methods for comparisons.\n",
    "# __lt__ for <\n",
    "# __le__ for <=\n",
    "# __eq__ for ==\n",
    "# __ne__ for !=\n",
    "# __gt__ for >\n",
    "# __ge__ for >=\n",
    "\n",
    "#If __ne__ is not implemented, it returns the opposite of __eq__. \n",
    "#There are no other relationships between the other operators.\n",
    "#Example:\n",
    "\n",
    "class SpecialString:\n",
    "  def __init__(self, cont):\n",
    "    self.cont = cont\n",
    "\n",
    "  def __gt__(self, other):\n",
    "    for index in range(len(other.cont)+1):\n",
    "      result = other.cont[:index] + \">\" + self.cont\n",
    "      result += \">\" + other.cont[index:]\n",
    "      print(result)\n",
    "\n",
    "spam = SpecialString(\"spam\")\n",
    "eggs = SpecialString(\"eggs\")\n",
    "spam > eggs"
   ]
  },
  {
   "cell_type": "code",
   "execution_count": 14,
   "metadata": {},
   "outputs": [
    {
     "name": "stdout",
     "output_type": "stream",
     "text": [
      "5\n",
      "6\n",
      "D\n",
      "B\n"
     ]
    }
   ],
   "source": [
    "#Magic Methods\n",
    "\n",
    "#There are several magic methods for making classes act like containers.\n",
    "# __len__ for len()\n",
    "# __getitem__ for indexing\n",
    "# __setitem__ for assigning to indexed values\n",
    "# __delitem__ for deleting indexed values\n",
    "# __iter__ for iteration over objects (e.g., in for loops)\n",
    "# __contains__ for in\n",
    "\n",
    "#There are many other magic methods that we won't cover here, such as __call__ for calling objects as functions, and __int__, __str__, and the like, for converting objects to built-in types. \n",
    "#Example:\n",
    "\n",
    "import random\n",
    "\n",
    "class VagueList:\n",
    "  def __init__(self, cont):\n",
    "    self.cont = cont\n",
    "\n",
    "  def __getitem__(self, index):\n",
    "    return self.cont[index + random.randint(-1, 1)]\n",
    "\n",
    "  def __len__(self):\n",
    "    return random.randint(0, len(self.cont)*2)\n",
    "\n",
    "vague_list = VagueList([\"A\", \"B\", \"C\", \"D\", \"E\"])\n",
    "print(len(vague_list))\n",
    "print(len(vague_list))\n",
    "print(vague_list[2])\n",
    "print(vague_list[2])"
   ]
  },
  {
   "cell_type": "code",
   "execution_count": null,
   "metadata": {},
   "outputs": [],
   "source": [
    "#Object Lifecycle\n",
    "\n",
    "#The lifecycle of an object is made up of its creation, manipulation, and destruction.\n",
    "\n",
    "#The first stage of the life-cycle of an object is the definition of the class to which it belongs.\n",
    "#The next stage is the instantiation of an instance, when __init__ is called. Memory is allocated to store the instance. Just before this occurs, the __new__ method of the class is called. This is usually overridden only in special cases.\n",
    "#After this has happened, the object is ready to be used."
   ]
  },
  {
   "cell_type": "code",
   "execution_count": 15,
   "metadata": {},
   "outputs": [],
   "source": [
    "#Object Lifecycle\n",
    "\n",
    "#When an object is destroyed, the memory allocated to it is freed up, and can be used for other purposes.\n",
    "#Destruction of an object occurs when its reference count reaches zero. Reference count is the number of variables and other elements that refer to an object.\n",
    "#If nothing is referring to it (it has a reference count of zero) nothing can interact with it, so it can be safely deleted.\n",
    "\n",
    "#In some situations, two (or more) objects can be referred to by each other only, and therefore can be deleted as well. \n",
    "#The del statement reduces the reference count of an object by one, and this often leads to its deletion.\n",
    "#The magic method for the del statement is __del__. \n",
    "#The process of deleting objects when they are no longer needed is called garbage collection.\n",
    "#In summary, an object's reference count increases when it is assigned a new name or placed in a container (list, tuple, or dictionary). The object's reference count decreases when it's deleted with del, its reference is reassigned, or its reference goes out of scope. When an object's reference count reaches zero, Python automatically deletes it.\n",
    "#Example:\n",
    "\n",
    "a = 42  # Create object <42>\n",
    "b = a  # Increase ref. count  of <42> \n",
    "c = [a]  # Increase ref. count  of <42> \n",
    "\n",
    "del a  # Decrease ref. count  of <42>\n",
    "b = 100  # Decrease ref. count  of <42> \n",
    "c[0] = -1  # Decrease ref. count  of <42>"
   ]
  },
  {
   "cell_type": "code",
   "execution_count": null,
   "metadata": {},
   "outputs": [],
   "source": [
    "#Data Hiding\n",
    "\n",
    "#A key part of object-oriented programming is encapsulation, which involves packaging of related variables and functions into a single easy-to-use object - an instance of a class.\n",
    "#A related concept is data hiding, which states that implementation details of a class should be hidden, and a clean standard interface be presented for those who want to use the class. \n",
    "#In other programming languages, this is usually done with private methods and attributes, which block external access to certain methods and attributes in a class.\n",
    "\n",
    "#The Python philosophy is slightly different. \n",
    "#It is often stated as \"we are all consenting adults here\", meaning \n",
    "#that you shouldn't put arbitrary restrictions on accessing parts of a class.\n",
    "#Hence there are no ways of enforcing a method or attribute be strictly private. \n"
   ]
  },
  {
   "cell_type": "code",
   "execution_count": 16,
   "metadata": {},
   "outputs": [
    {
     "name": "stdout",
     "output_type": "stream",
     "text": [
      "Queue([1, 2, 3])\n",
      "Queue([0, 1, 2, 3])\n",
      "Queue([0, 1, 2])\n",
      "[0, 1, 2]\n"
     ]
    }
   ],
   "source": [
    "#Data Hiding\n",
    "\n",
    "#Weakly private methods and attributes have a single underscore at the beginning.\n",
    "#This signals that they are private, and shouldn't be used by external code. \n",
    "#However, it is mostly only a convention, and does not stop external code from accessing them. \n",
    "#Its only actual effect is that from module_name import * won't import variables that start with a \n",
    "#single underscore.\n",
    "#Example:\n",
    "\n",
    "class Queue:\n",
    "  def __init__(self, contents):\n",
    "    self._hiddenlist = list(contents)\n",
    "\n",
    "  def push(self, value):\n",
    "    self._hiddenlist.insert(0, value)\n",
    "   \n",
    "  def pop(self):\n",
    "    return self._hiddenlist.pop(-1)\n",
    "\n",
    "  def __repr__(self):\n",
    "    return \"Queue({})\".format(self._hiddenlist)\n",
    "\n",
    "queue = Queue([1, 2, 3])\n",
    "print(queue)\n",
    "queue.push(0)\n",
    "print(queue)\n",
    "queue.pop()\n",
    "print(queue)\n",
    "print(queue._hiddenlist)"
   ]
  },
  {
   "cell_type": "code",
   "execution_count": 17,
   "metadata": {},
   "outputs": [
    {
     "name": "stdout",
     "output_type": "stream",
     "text": [
      "7\n",
      "7\n"
     ]
    },
    {
     "ename": "AttributeError",
     "evalue": "'Spam' object has no attribute '__egg'",
     "output_type": "error",
     "traceback": [
      "\u001b[0;31m---------------------------------------------------------------------------\u001b[0m",
      "\u001b[0;31mAttributeError\u001b[0m                            Traceback (most recent call last)",
      "\u001b[0;32m<ipython-input-17-763b35d04d41>\u001b[0m in \u001b[0;36m<module>\u001b[0;34m()\u001b[0m\n\u001b[1;32m     14\u001b[0m \u001b[0ms\u001b[0m\u001b[0;34m.\u001b[0m\u001b[0mprint_egg\u001b[0m\u001b[0;34m(\u001b[0m\u001b[0;34m)\u001b[0m\u001b[0;34m\u001b[0m\u001b[0m\n\u001b[1;32m     15\u001b[0m \u001b[0mprint\u001b[0m\u001b[0;34m(\u001b[0m\u001b[0ms\u001b[0m\u001b[0;34m.\u001b[0m\u001b[0m_Spam__egg\u001b[0m\u001b[0;34m)\u001b[0m\u001b[0;34m\u001b[0m\u001b[0m\n\u001b[0;32m---> 16\u001b[0;31m \u001b[0mprint\u001b[0m\u001b[0;34m(\u001b[0m\u001b[0ms\u001b[0m\u001b[0;34m.\u001b[0m\u001b[0m__egg\u001b[0m\u001b[0;34m)\u001b[0m\u001b[0;34m\u001b[0m\u001b[0m\n\u001b[0m",
      "\u001b[0;31mAttributeError\u001b[0m: 'Spam' object has no attribute '__egg'"
     ]
    }
   ],
   "source": [
    "#Data Hiding\n",
    "\n",
    "#Strongly private methods and attributes have a double underscore at the beginning of their names.\n",
    "#This causes their names to be mangled, which means that they can't be accessed from outside the class. \n",
    "#The purpose of this isn't to ensure that they are kept private, but to avoid bugs if there are\n",
    "#subclasses that have methods or attributes with the same names.\n",
    "#Name mangled methods can still be accessed externally, but by a different name.\n",
    "#The method __privatemethod of class Spam could be accessed externally with _Spam__privatemethod.\n",
    "#Example:\n",
    "\n",
    "class Spam:\n",
    "  __egg = 7\n",
    "  def print_egg(self):\n",
    "    print(self.__egg)\n",
    "\n",
    "s = Spam()\n",
    "s.print_egg()\n",
    "print(s._Spam__egg)\n",
    "print(s.__egg)"
   ]
  },
  {
   "cell_type": "code",
   "execution_count": 18,
   "metadata": {},
   "outputs": [
    {
     "name": "stdout",
     "output_type": "stream",
     "text": [
      "25\n"
     ]
    }
   ],
   "source": [
    "#Class Methods\n",
    "\n",
    "#Methods of objects we've looked at so far are called by an instance of a class, which \n",
    "#is then passed to the self parameter of the method.\n",
    "#Class methods are different - they are called by a class, which is passed to the cls parameter \n",
    "#of the method. \n",
    "#A common use of these are factory methods, which instantiate an instance of a class, using different\n",
    "#parameters than those usually passed to the class constructor. \n",
    "#Class methods are marked with a classmethod decorator.\n",
    "#Example:\n",
    "\n",
    "class Rectangle:\n",
    "  def __init__(self, width, height):\n",
    "    self.width = width\n",
    "    self.height = height\n",
    "\n",
    "  def calculate_area(self):\n",
    "    return self.width * self.height\n",
    "\n",
    "  @classmethod\n",
    "  def new_square(cls, side_length):\n",
    "    return cls(side_length, side_length)\n",
    "\n",
    "square = Rectangle.new_square(5)\n",
    "print(square.calculate_area())"
   ]
  },
  {
   "cell_type": "code",
   "execution_count": null,
   "metadata": {},
   "outputs": [],
   "source": [
    "#new_square is a class method and is called on the class, rather than on an instance of the class.\n",
    "#It returns a new object of the class cls."
   ]
  },
  {
   "cell_type": "code",
   "execution_count": 19,
   "metadata": {},
   "outputs": [],
   "source": [
    "#Static Methods\n",
    "\n",
    "#Static methods are similar to class methods, except they don't receive any\n",
    "#additional arguments; they are identical to normal functions that belong to a\n",
    "#class. \n",
    "#They are marked with the staticmethod decorator.\n",
    "#Example:\n",
    "\n",
    "class Pizza:\n",
    "  def __init__(self, toppings):\n",
    "    self.toppings = toppings\n",
    "\n",
    "  @staticmethod\n",
    "  def validate_topping(topping):\n",
    "    if topping == \"pineapple\":\n",
    "      raise ValueError(\"No pineapples!\")\n",
    "    else:\n",
    "      return True\n",
    "\n",
    "ingredients = [\"cheese\", \"onions\", \"spam\"]\n",
    "if all(Pizza.validate_topping(i) for i in ingredients):\n",
    "  pizza = Pizza(ingredients) "
   ]
  },
  {
   "cell_type": "code",
   "execution_count": 20,
   "metadata": {},
   "outputs": [
    {
     "name": "stdout",
     "output_type": "stream",
     "text": [
      "False\n"
     ]
    },
    {
     "ename": "AttributeError",
     "evalue": "can't set attribute",
     "output_type": "error",
     "traceback": [
      "\u001b[0;31m---------------------------------------------------------------------------\u001b[0m",
      "\u001b[0;31mAttributeError\u001b[0m                            Traceback (most recent call last)",
      "\u001b[0;32m<ipython-input-20-8e1b4bf4f643>\u001b[0m in \u001b[0;36m<module>\u001b[0;34m()\u001b[0m\n\u001b[1;32m     16\u001b[0m \u001b[0mpizza\u001b[0m \u001b[0;34m=\u001b[0m \u001b[0mPizza\u001b[0m\u001b[0;34m(\u001b[0m\u001b[0;34m[\u001b[0m\u001b[0;34m\"cheese\"\u001b[0m\u001b[0;34m,\u001b[0m \u001b[0;34m\"tomato\"\u001b[0m\u001b[0;34m]\u001b[0m\u001b[0;34m)\u001b[0m\u001b[0;34m\u001b[0m\u001b[0m\n\u001b[1;32m     17\u001b[0m \u001b[0mprint\u001b[0m\u001b[0;34m(\u001b[0m\u001b[0mpizza\u001b[0m\u001b[0;34m.\u001b[0m\u001b[0mpineapple_allowed\u001b[0m\u001b[0;34m)\u001b[0m\u001b[0;34m\u001b[0m\u001b[0m\n\u001b[0;32m---> 18\u001b[0;31m \u001b[0mpizza\u001b[0m\u001b[0;34m.\u001b[0m\u001b[0mpineapple_allowed\u001b[0m \u001b[0;34m=\u001b[0m \u001b[0;32mTrue\u001b[0m\u001b[0;34m\u001b[0m\u001b[0m\n\u001b[0m",
      "\u001b[0;31mAttributeError\u001b[0m: can't set attribute"
     ]
    }
   ],
   "source": [
    "#Properties\n",
    "\n",
    "#Properties provide a way of customizing access to instance attributes. \n",
    "#They are created by putting the property decorator above a method, which means when the instance attribute with the same name as the method is accessed, the method will be called instead. \n",
    "#One common use of a property is to make an attribute read-only.\n",
    "#Example:\n",
    "\n",
    "class Pizza:\n",
    "  def __init__(self, toppings):\n",
    "    self.toppings = toppings\n",
    "    \n",
    "  @property\n",
    "  def pineapple_allowed(self):\n",
    "    return False\n",
    "\n",
    "pizza = Pizza([\"cheese\", \"tomato\"])\n",
    "print(pizza.pineapple_allowed)\n",
    "pizza.pineapple_allowed = True"
   ]
  },
  {
   "cell_type": "code",
   "execution_count": null,
   "metadata": {},
   "outputs": [
    {
     "name": "stdout",
     "output_type": "stream",
     "text": [
      "False\n"
     ]
    }
   ],
   "source": [
    "#Properties\n",
    "\n",
    "#Properties can also be set by defining setter/getter functions.\n",
    "#The setter function sets the corresponding property's value.\n",
    "#The getter gets the value.\n",
    "#To define a setter, you need to use a decorator of the same name as the property, followed by a dot and the setter keyword.\n",
    "#The same applies to defining getter functions.\n",
    "#Example:\n",
    "\n",
    "class Pizza:\n",
    "  def __init__(self, toppings):\n",
    "    self.toppings = toppings\n",
    "    self._pineapple_allowed = False\n",
    "\n",
    "  @property\n",
    "  def pineapple_allowed(self):\n",
    "    return self._pineapple_allowed\n",
    "\n",
    "  @pineapple_allowed.setter\n",
    "  def pineapple_allowed(self, value):\n",
    "    if value:\n",
    "      password = input(\"Enter the password: \")\n",
    "      if password == \"Sw0rdf1sh!\":\n",
    "        self._pineapple_allowed = value\n",
    "      else:\n",
    "        raise ValueError(\"Alert! Intruder!\")\n",
    "\n",
    "pizza = Pizza([\"cheese\", \"tomato\"])\n",
    "print(pizza.pineapple_allowed)\n",
    "pizza.pineapple_allowed = True\n",
    "print(pizza.pineapple_allowed)"
   ]
  },
  {
   "cell_type": "code",
   "execution_count": null,
   "metadata": {},
   "outputs": [],
   "source": [
    "#A Simple Game\n",
    "\n",
    "#Object-orientation is very useful when managing different objects and their relations. That is especially useful when you are developing games with different characters and features.\n",
    "\n",
    "#Let's look at an example project that shows how classes are used in game development.\n",
    "#The game to be developed is an old fashioned text-based adventure game.\n",
    "#Below is the function handling input and simple parsing.\n",
    "\n",
    "def get_input():\n",
    "  command = input(\": \").split()\n",
    "  verb_word = command[0]\n",
    "  if verb_word in verb_dict:\n",
    "    verb = verb_dict[verb_word]\n",
    "  else:\n",
    "    print(\"Unknown verb {}\". format(verb_word))\n",
    "    return\n",
    "\n",
    "  if len(command) >= 2:\n",
    "    noun_word = command[1]\n",
    "    print (verb(noun_word))\n",
    "  else:\n",
    "    print(verb(\"nothing\"))\n",
    "\n",
    "def say(noun):\n",
    "  return 'You said \"{}\"'.format(noun)\n",
    "\n",
    "verb_dict = {\n",
    "  \"say\": say,\n",
    "}\n",
    "\n",
    "while True:\n",
    "  get_input()"
   ]
  },
  {
   "cell_type": "code",
   "execution_count": null,
   "metadata": {},
   "outputs": [],
   "source": [
    "#A Simple Game\n",
    "\n",
    "#The next step is to use classes to represent game objects.\n",
    "\n",
    "class GameObject:\n",
    "  class_name = \"\"\n",
    "  desc = \"\"\n",
    "  objects = {}\n",
    "\n",
    "  def __init__(self, name):\n",
    "    self.name = name\n",
    "    GameObject.objects[self.class_name] = self\n",
    "\n",
    "  def get_desc(self):\n",
    "    return self.class_name + \"\\n\" + self.desc\n",
    "\n",
    "class Goblin(GameObject):\n",
    "  class_name = \"goblin\"\n",
    "  desc = \"A foul creature\"\n",
    "\n",
    "goblin = Goblin(\"Gobbly\")\n",
    "\n",
    "def examine(noun):\n",
    "  if noun in GameObject.objects:\n",
    "    return GameObject.objects[noun].get_desc()\n",
    "  else:\n",
    "    return \"There is no {} here.\".format(noun)"
   ]
  },
  {
   "cell_type": "code",
   "execution_count": null,
   "metadata": {},
   "outputs": [],
   "source": [
    "#A Simple Game\n",
    "\n",
    "#This code adds more detail to the Goblin class and allows you to fight goblins.\n",
    "\n",
    "class Goblin(GameObject):\n",
    "  def __init__(self, name):\n",
    "    self.class_name = \"goblin\"\n",
    "    self.health = 3\n",
    "    self._desc = \" A foul creature\"\n",
    "    super().__init__(name)\n",
    "\n",
    "  @property\n",
    "  def desc(self):\n",
    "    if self.health >=3:\n",
    "      return self._desc\n",
    "    elif self.health == 2:\n",
    "      health_line = \"It has a wound on its knee.\"\n",
    "    elif self.health == 1:\n",
    "      health_line = \"Its left arm has been cut off!\"\n",
    "    elif self.health <= 0:\n",
    "      health_line = \"It is dead.\"\n",
    "    return self._desc + \"\\n\" + health_line\n",
    "\n",
    "  @desc.setter\n",
    "  def desc(self, value):\n",
    "    self._desc = value\n",
    "\n",
    "def hit(noun):\n",
    "  if noun in GameObject.objects:\n",
    "    thing = GameObject.objects[noun]\n",
    "    if type(thing) == Goblin:\n",
    "      thing.health = thing.health - 1\n",
    "      if thing.health <= 0:\n",
    "        msg = \"You killed the goblin!\"\n",
    "      else: \n",
    "        msg = \"You hit the {}\".format(thing.class_name)\n",
    "  else:\n",
    "    msg =\"There is no {} here.\".format(noun) \n",
    "  return msg"
   ]
  },
  {
   "cell_type": "code",
   "execution_count": null,
   "metadata": {},
   "outputs": [],
   "source": []
  }
 ],
 "metadata": {
  "kernelspec": {
   "display_name": "Python 3",
   "language": "python",
   "name": "python3"
  },
  "language_info": {
   "codemirror_mode": {
    "name": "ipython",
    "version": 3
   },
   "file_extension": ".py",
   "mimetype": "text/x-python",
   "name": "python",
   "nbconvert_exporter": "python",
   "pygments_lexer": "ipython3",
   "version": "3.6.4"
  }
 },
 "nbformat": 4,
 "nbformat_minor": 2
}
