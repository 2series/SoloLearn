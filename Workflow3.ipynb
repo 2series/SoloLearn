{
 "cells": [
  {
   "cell_type": "code",
   "execution_count": 1,
   "metadata": {},
   "outputs": [],
   "source": [
    "# Reusing Code\n",
    "\n",
    "# Code reuse is a very important part of programming in any language.\n",
    "# Increasing code size makes it harder to maintain. \n",
    "# For a large programming project to be successful, it is essential\n",
    "# to abide by the Don't Repeat Yourself, or DRY, principle.\n",
    "# We've already looked at one way of doing this: by using\n",
    "# loops. In this module, we will explore two more:\n",
    "# functions and modules.\n",
    "\n",
    "\n",
    "# Bad, repetitive code is said to abide by the WET principle,\n",
    "# which stands for Write Everything Twice, or\n",
    "# We Enjoy Typing"
   ]
  },
  {
   "cell_type": "code",
   "execution_count": 2,
   "metadata": {},
   "outputs": [
    {
     "name": "stdout",
     "output_type": "stream",
     "text": [
      "Hello workd\n"
     ]
    },
    {
     "data": {
      "text/plain": [
       "range(10, 20, 3)"
      ]
     },
     "execution_count": 2,
     "metadata": {},
     "output_type": "execute_result"
    }
   ],
   "source": [
    "# Functions\n",
    "\n",
    "# You've already used functions in previous lessons. \n",
    "# Any statement that consists of a word followed by information in parentheses\n",
    "# is a function call.\n",
    "# Here are some examples that you've already seen:\n",
    "print(\"Hello workd\")\n",
    "range(2, 20)\n",
    "str(12)\n",
    "range(10, 20, 3)"
   ]
  },
  {
   "cell_type": "code",
   "execution_count": 3,
   "metadata": {},
   "outputs": [],
   "source": [
    "# The words in front of the parentheses are function names,\n",
    "# and the comma-separated values inside the parentheses \n",
    "# are function arguments."
   ]
  },
  {
   "cell_type": "code",
   "execution_count": 4,
   "metadata": {},
   "outputs": [],
   "source": [
    "# Functions\n",
    "\n",
    "# In addition to using pre-defined functions, you can create your\n",
    "# own functions by using the def statement.\n",
    "\n",
    "# The code block within every function starts with a colon (:) and is indented."
   ]
  },
  {
   "cell_type": "code",
   "execution_count": 5,
   "metadata": {},
   "outputs": [
    {
     "ename": "NameError",
     "evalue": "name 'hello' is not defined",
     "output_type": "error",
     "traceback": [
      "\u001b[0;31m---------------------------------------------------------------------------\u001b[0m",
      "\u001b[0;31mNameError\u001b[0m                                 Traceback (most recent call last)",
      "\u001b[0;32m<ipython-input-5-9b6d8a311d65>\u001b[0m in \u001b[0;36m<module>\u001b[0;34m()\u001b[0m\n\u001b[1;32m      5\u001b[0m \u001b[0;31m# variables before using them.\u001b[0m\u001b[0;34m\u001b[0m\u001b[0;34m\u001b[0m\u001b[0m\n\u001b[1;32m      6\u001b[0m \u001b[0;34m\u001b[0m\u001b[0m\n\u001b[0;32m----> 7\u001b[0;31m \u001b[0mhello\u001b[0m\u001b[0;34m(\u001b[0m\u001b[0;34m)\u001b[0m\u001b[0;34m\u001b[0m\u001b[0m\n\u001b[0m\u001b[1;32m      8\u001b[0m \u001b[0;34m\u001b[0m\u001b[0m\n\u001b[1;32m      9\u001b[0m \u001b[0;32mdef\u001b[0m \u001b[0mhello\u001b[0m\u001b[0;34m(\u001b[0m\u001b[0;34m)\u001b[0m\u001b[0;34m:\u001b[0m\u001b[0;34m\u001b[0m\u001b[0m\n",
      "\u001b[0;31mNameError\u001b[0m: name 'hello' is not defined"
     ]
    }
   ],
   "source": [
    "# Functions\n",
    "\n",
    "# You must define functions before they are called,\n",
    "# in the same way that you must assign \n",
    "# variables before using them.\n",
    "\n",
    "hello()\n",
    "\n",
    "def hello():\n",
    "    print('Hello world!')"
   ]
  },
  {
   "cell_type": "code",
   "execution_count": null,
   "metadata": {},
   "outputs": [],
   "source": [
    "def sayHi():\n",
    "    print('Hi!')\n",
    "    \n",
    "sayHi()    "
   ]
  },
  {
   "cell_type": "code",
   "execution_count": null,
   "metadata": {},
   "outputs": [],
   "source": [
    "# Arguments\n",
    "\n",
    "# All the function definitions we've looked at so far have\n",
    "# been functions of zero arguments, which are \n",
    "# called with empty parentheses. \n",
    "# However, most functions take arguments.\n",
    "# The example below defines a function that\n",
    "# takes one argument:\n",
    "\n",
    "def print_with_exclamation(word):\n",
    "    print(word + \"!\")\n",
    "\n",
    "print_with_exclamation(\"spam\")\n",
    "print_with_exclamation(\"eggs\")\n",
    "print_with_exclamation(\"python\")"
   ]
  },
  {
   "cell_type": "code",
   "execution_count": null,
   "metadata": {},
   "outputs": [],
   "source": [
    "def print_double(x):\n",
    "    print(2 * x)\n",
    "    \n",
    "print_double(3)"
   ]
  },
  {
   "cell_type": "code",
   "execution_count": null,
   "metadata": {},
   "outputs": [],
   "source": [
    "# Arguments\n",
    "\n",
    "# You can also define functions with more than\n",
    "# one argument; separate them with commas.\n",
    "def print_sum_twice(x, y):\n",
    "    print(x + y)\n",
    "    print(x + y)\n",
    "    \n",
    "print_sum_twice(5, 8)"
   ]
  },
  {
   "cell_type": "code",
   "execution_count": null,
   "metadata": {},
   "outputs": [],
   "source": [
    "# Arguments\n",
    "\n",
    "# Function arguments can be used as variables inside the\n",
    "# function definition. However, they cannot be referenced\n",
    "# outside of the function's definition. \n",
    "# This also applies to other variables created \n",
    "# inside a function.\n",
    "def function(variable):\n",
    "    variable +=1\n",
    "    print(variable)\n",
    "    \n",
    "function(7)\n",
    "print(variable)"
   ]
  },
  {
   "cell_type": "code",
   "execution_count": null,
   "metadata": {},
   "outputs": [],
   "source": [
    "# Technically, parameters are the variables in a function definition, and arguments are the values put into parameters when functions are called."
   ]
  },
  {
   "cell_type": "code",
   "execution_count": null,
   "metadata": {},
   "outputs": [],
   "source": [
    "# Returning from Functions\n",
    "\n",
    "# Certain functions, such as int or str, return\n",
    "# a value that can be used later. \n",
    "# To do this for your defined functions, you \n",
    "# can use the return statement.\n",
    "def max(x, y):\n",
    "    if x >= y:\n",
    "        return x\n",
    "    else:\n",
    "        return y\n",
    "\n",
    "print(max(4, 7))\n",
    "z = max(8, 5)\n",
    "print(z)"
   ]
  },
  {
   "cell_type": "code",
   "execution_count": null,
   "metadata": {},
   "outputs": [],
   "source": [
    "def shortest_string(x, y):\n",
    "    if len(x) <= len(y):\n",
    "        return x\n",
    "    else:\n",
    "        return y"
   ]
  },
  {
   "cell_type": "code",
   "execution_count": null,
   "metadata": {},
   "outputs": [],
   "source": [
    "# Returning from Functions\n",
    "\n",
    "# Once you return a value from a function, it immediately stops being executed.\n",
    "# Any code after the return statement will never happen.\n",
    "# For example\n",
    "def add_numbers(x, y):\n",
    "    total = x + y\n",
    "    return total\n",
    "    print(\"This won't be printed\")\n",
    "\n",
    "print(add_numbers(4, 5))"
   ]
  },
  {
   "cell_type": "code",
   "execution_count": null,
   "metadata": {},
   "outputs": [],
   "source": [
    "def print_numbers():\n",
    "    print(1)\n",
    "    print(2)\n",
    "    return\n",
    "    print(4)\n",
    "    print(6)\n",
    "# answer 2"
   ]
  },
  {
   "cell_type": "code",
   "execution_count": null,
   "metadata": {},
   "outputs": [],
   "source": [
    "# Comments\n",
    "\n",
    "# Comments are annotations to code used to make it easier to understand.\n",
    "# They don't affect how code is run. \n",
    "# In Python, a comment is created by inserting an octothorpe \n",
    "# (otherwise known as a number sign or hash symbol: #). \n",
    "# All text after it on that line is ignored."
   ]
  },
  {
   "cell_type": "code",
   "execution_count": null,
   "metadata": {},
   "outputs": [],
   "source": [
    "# Docstrings\n",
    "\n",
    "# Docstrings (documentation strings) serve a similar purpose to comments, \n",
    "# as they are designed to explain code. However, they are more specific \n",
    "# and have a different syntax. They are created by putting a multiline \n",
    "# string containing an explanation of the function below the function's first line.\n",
    "def shout(word):\n",
    "    \"\"\"\n",
    "    print a word with an exclamation mark following it.\n",
    "    \"\"\"\n",
    "    print(word + \"!\")\n",
    "\n",
    "shout(\"spam\")"
   ]
  },
  {
   "cell_type": "code",
   "execution_count": null,
   "metadata": {},
   "outputs": [],
   "source": [
    "# Unlike conventional comments, docstrings are retained throughout the\n",
    "# runtime of the program. \n",
    "# This allows the programmer to inspect these comments at run time.\n",
    "\n",
    "# can docstring contain multiple lines of text? Yes"
   ]
  },
  {
   "cell_type": "code",
   "execution_count": null,
   "metadata": {},
   "outputs": [],
   "source": [
    "# Functions\n",
    "\n",
    "# Although they are created differently from normal variables, functions\n",
    "# are just like any other kind of value. \n",
    "# They can be assigned and reassigned to variables, and later referenced\n",
    "# by those names.\n",
    "\n",
    "def multiply(x, y):\n",
    "    return x * y\n",
    "\n",
    "a = 4\n",
    "b = 7\n",
    "operation = multiply\n",
    "print(operation(a,b))"
   ]
  },
  {
   "cell_type": "code",
   "execution_count": null,
   "metadata": {},
   "outputs": [],
   "source": [
    "# The example above assigned the function multiply to a variable operation. \n",
    "# Now, the name operation can also be used to call the function."
   ]
  },
  {
   "cell_type": "code",
   "execution_count": null,
   "metadata": {},
   "outputs": [],
   "source": [
    "def shout(word):\n",
    "    return word + \"!\"\n",
    "speak = shout\n",
    "output = speak(\"shout\")\n",
    "print(output)"
   ]
  },
  {
   "cell_type": "code",
   "execution_count": null,
   "metadata": {},
   "outputs": [],
   "source": [
    "# Functions\n",
    "\n",
    "# Functions can also be used as arguments of other functions.\n",
    "def add(x, y):\n",
    "    return x + y\n",
    "\n",
    "def do_twice(func, x, y):\n",
    "    return func(func(x, y), func(x, y))\n",
    "\n",
    "a = 5\n",
    "b = 10\n",
    "\n",
    "print(do_twice(add, a, b))"
   ]
  },
  {
   "cell_type": "code",
   "execution_count": null,
   "metadata": {},
   "outputs": [],
   "source": [
    "# As you can see, the function do_twice takes a function as its argument\n",
    "# and calls it in its body."
   ]
  },
  {
   "cell_type": "code",
   "execution_count": null,
   "metadata": {},
   "outputs": [],
   "source": [
    "# Modules\n",
    "\n",
    "# Modules are pieces of code that other people have written to fulfill common tasks,\n",
    "# such as generating random numbers, performing mathematical operations, etc.\n",
    "\n",
    "# The basic way to use a module is to add import module_name at the top of your code,\n",
    "# and then using module_name.var to access functions and values with the name var in \n",
    "# the module.\n",
    "# For example, the following example uses the random module to generate random numbers:\n",
    "import random\n",
    "\n",
    "for i in range(5):\n",
    "    value = random.randint(1, 6)\n",
    "    print(value)"
   ]
  },
  {
   "cell_type": "code",
   "execution_count": null,
   "metadata": {},
   "outputs": [],
   "source": [
    "# The code uses the randint function defined in the random module to print 5 random\n",
    "# numbers in the range 1 to 6."
   ]
  },
  {
   "cell_type": "code",
   "execution_count": null,
   "metadata": {},
   "outputs": [],
   "source": [
    "# Modules\n",
    "\n",
    "# There is another kind of import that can be used if you only need certain functions from a module.\n",
    "# These take the form from module_name import var, and then var can be used as if it were defined\n",
    "# normally in your code. \n",
    "# For example, to import only the pi constant from the math module:\n",
    "from math import pi\n",
    "\n",
    "print(pi)"
   ]
  },
  {
   "cell_type": "code",
   "execution_count": null,
   "metadata": {},
   "outputs": [],
   "source": [
    "# Use a comma separated list to import multiple objects. For example:\n",
    "from math import pi, sqrt"
   ]
  },
  {
   "cell_type": "code",
   "execution_count": null,
   "metadata": {},
   "outputs": [],
   "source": [
    "# * imports all objects from a module. For example: from math import *\n",
    "# This is generally discouraged, as it confuses variables in your code with variables\n",
    "# in the external module."
   ]
  },
  {
   "cell_type": "code",
   "execution_count": null,
   "metadata": {},
   "outputs": [],
   "source": [
    "# Modules\n",
    "\n",
    "# Trying to import a module that isn't available causes an ImportError.\n",
    "import some_module"
   ]
  },
  {
   "cell_type": "code",
   "execution_count": null,
   "metadata": {},
   "outputs": [],
   "source": [
    "# Modules\n",
    "\n",
    "# You can import a module or object under a different name using the as keyword.\n",
    "# This is mainly used when a module or object has a long or confusing name.\n",
    "# For example:\n",
    "\n",
    "from math import sqrt as square_root\n",
    "print(square_root(100))"
   ]
  },
  {
   "cell_type": "code",
   "execution_count": null,
   "metadata": {},
   "outputs": [],
   "source": [
    "import math as m\n",
    "print(sqrt(25))"
   ]
  },
  {
   "cell_type": "code",
   "execution_count": null,
   "metadata": {},
   "outputs": [],
   "source": [
    "# Modules\n",
    "\n",
    "# There are three main types of modules in Python, those you write yourself, those you \n",
    "# install from external sources, and those that are preinstalled with Python. \n",
    "# The last type is called the standard library, and contains many useful modules. Some of \n",
    "# the standard library's useful modules include string, re, datetime, math, random, os,\n",
    "# multiprocessing, subprocess, socket, email, json, doctest, unittest, pdb, argparse and sys.\n",
    "\n",
    "# Tasks that can be done by the standard library include string parsing, data serialization,\n",
    "# testing, debugging and manipulating dates, emails, command line arguments, and much more!"
   ]
  },
  {
   "cell_type": "code",
   "execution_count": null,
   "metadata": {},
   "outputs": [],
   "source": [
    "Modules\n",
    "\n",
    "# Many third-party Python modules are stored on the Python Package Index (PyPI). \n",
    "# The best way to install these is using a program called pip. This comes installed by\n",
    "# default with modern distributions of Python. If you don't have it, it is easy to install\n",
    "# online. Once you have it, installing libraries from PyPI is easy. Look up the name of the \n",
    "# library you want to install, go to the command line\n",
    "# (for Windows it will be the Command Prompt), and enter pip install library_name. \n",
    "# Once you've done this, import the library and use it in your code.\n",
    "\n",
    "# Using pip is the standard way of installing libraries on most operating systems, \n",
    "# but some libraries have prebuilt binaries for Windows. These are normal executable files \n",
    "# that let you install libraries with a GUI the same way you would install other programs."
   ]
  },
  {
   "cell_type": "code",
   "execution_count": null,
   "metadata": {},
   "outputs": [],
   "source": [
    "# It's important to enter pip commands at the command line, not the Python interpreter."
   ]
  },
  {
   "cell_type": "code",
   "execution_count": null,
   "metadata": {},
   "outputs": [],
   "source": [
    "def print_nums(x):\n",
    "    for i in range(x):\n",
    "        print(i)\n",
    "        return\n",
    "print_nums(10)"
   ]
  },
  {
   "cell_type": "code",
   "execution_count": null,
   "metadata": {},
   "outputs": [],
   "source": [
    "def func(x):\n",
    "    res = 0\n",
    "    for i in range(x):\n",
    "        res += i\n",
    "    return res\n",
    "\n",
    "print(func(4))"
   ]
  },
  {
   "cell_type": "code",
   "execution_count": null,
   "metadata": {},
   "outputs": [],
   "source": []
  }
 ],
 "metadata": {
  "kernelspec": {
   "display_name": "Python 3",
   "language": "python",
   "name": "python3"
  },
  "language_info": {
   "codemirror_mode": {
    "name": "ipython",
    "version": 3
   },
   "file_extension": ".py",
   "mimetype": "text/x-python",
   "name": "python",
   "nbconvert_exporter": "python",
   "pygments_lexer": "ipython3",
   "version": "3.6.4"
  }
 },
 "nbformat": 4,
 "nbformat_minor": 2
}
