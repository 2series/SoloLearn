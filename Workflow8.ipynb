{
 "cells": [
  {
   "cell_type": "code",
   "execution_count": 1,
   "metadata": {},
   "outputs": [],
   "source": [
    "#Regular Expressions\n",
    "\n",
    "#Regular expressions are a powerful tool for various kinds of string manipulation.\n",
    "#They are a domain specific language (DSL) that is present as a library in most modern programming languages, not just Python.\n",
    "#They are useful for two main tasks:\n",
    "# - verifying that strings match a pattern (for instance, that a string has the format of an email address), \n",
    "# - performing substitutions in a string (such as changing all American spellings to British ones).\n"
   ]
  },
  {
   "cell_type": "code",
   "execution_count": 2,
   "metadata": {},
   "outputs": [
    {
     "name": "stdout",
     "output_type": "stream",
     "text": [
      "Match\n"
     ]
    }
   ],
   "source": [
    "#Regular Expressions\n",
    "\n",
    "#Regular expressions in Python can be accessed using the re module, which is part of the standard library. \n",
    "#After you've defined a regular expression, the re.match function can be used to determine whether it matches at the beginning of a string.\n",
    "#If it does, match returns an object representing the match, if not, it returns None.\n",
    "#To avoid any confusion while working with regular expressions, we would use raw strings as r\"expression\".\n",
    "#Raw strings don't escape anything, which makes use of regular expressions easier.\n",
    "\n",
    "#Example:\n",
    "\n",
    "import re\n",
    "\n",
    "pattern = r\"spam\"\n",
    "\n",
    "if re.match(pattern, \"spamspamspam\"):\n",
    "   print(\"Match\")\n",
    "else:\n",
    "   print(\"No match\")"
   ]
  },
  {
   "cell_type": "code",
   "execution_count": 3,
   "metadata": {},
   "outputs": [
    {
     "name": "stdout",
     "output_type": "stream",
     "text": [
      "No match\n",
      "Match\n",
      "['spam', 'spam']\n"
     ]
    }
   ],
   "source": [
    "#Regular Expressions\n",
    "\n",
    "#Other functions to match patterns are re.search and re.findall. \n",
    "#The function re.search finds a match of a pattern anywhere in the string.\n",
    "#The function re.findall returns a list of all substrings that match a pattern.\n",
    "\n",
    "#Example:\n",
    "\n",
    "import re\n",
    "\n",
    "pattern = r\"spam\"\n",
    "\n",
    "if re.match(pattern, \"eggspamsausagespam\"):\n",
    "   print(\"Match\")\n",
    "else:\n",
    "   print(\"No match\")\n",
    "\n",
    "if re.search(pattern, \"eggspamsausagespam\"):\n",
    "   print(\"Match\")\n",
    "else:\n",
    "   print(\"No match\")\n",
    "    \n",
    "print(re.findall(pattern, \"eggspamsausagespam\"))"
   ]
  },
  {
   "cell_type": "code",
   "execution_count": 4,
   "metadata": {},
   "outputs": [
    {
     "name": "stdout",
     "output_type": "stream",
     "text": [
      "pam\n",
      "4\n",
      "7\n",
      "(4, 7)\n"
     ]
    }
   ],
   "source": [
    "#Regular Expressions\n",
    "\n",
    "#The regex search returns an object with several methods that give details about it. \n",
    "#These methods include group which returns the string matched, start and end which return the start and ending positions of the first match, and span which returns the start and end positions of the first match as a tuple.\n",
    "#Example:\n",
    "\n",
    "import re\n",
    "\n",
    "pattern = r\"pam\"\n",
    "\n",
    "match = re.search(pattern, \"eggspamsausage\")\n",
    "if match:\n",
    "   print(match.group())\n",
    "   print(match.start())\n",
    "   print(match.end())\n",
    "   print(match.span())"
   ]
  },
  {
   "cell_type": "code",
   "execution_count": 5,
   "metadata": {},
   "outputs": [
    {
     "name": "stdout",
     "output_type": "stream",
     "text": [
      "My name is Amy. Hi Amy.\n"
     ]
    }
   ],
   "source": [
    "#Search & Replace\n",
    "\n",
    "#One of the most important re methods that use regular expressions is sub.\n",
    "#Syntax:\n",
    "#re.sub(pattern, repl, string, max=0)\n",
    "\n",
    "#This method replaces all occurrences of the pattern in string with repl, substituting all occurrences, unless max provided. This method returns the modified string. \n",
    "#Example:\n",
    "\n",
    "import re\n",
    "\n",
    "str = \"My name is David. Hi David.\"\n",
    "pattern = r\"David\"\n",
    "newstr = re.sub(pattern, \"Amy\", str)\n",
    "print(newstr)"
   ]
  },
  {
   "cell_type": "code",
   "execution_count": 6,
   "metadata": {},
   "outputs": [],
   "source": [
    "#Metacharacters\n",
    "\n",
    "#Metacharacters are what make regular expressions more powerful than normal string methods.\n",
    "#They allow you to create regular expressions to represent concepts like \"one or more repetitions of a vowel\". \n",
    "\n",
    "#The existence of metacharacters poses a problem if you want to create a regular expression (or regex) that matches a literal metacharacter, such as \"$\". You can do this by escaping the metacharacters by putting a backslash in front of them. \n",
    "#However, this can cause problems, since backslashes also have an escaping function in normal Python strings. This can mean putting three or four backslashes in a row to do all the escaping. \n"
   ]
  },
  {
   "cell_type": "code",
   "execution_count": 7,
   "metadata": {},
   "outputs": [
    {
     "name": "stdout",
     "output_type": "stream",
     "text": [
      "Match 1\n",
      "Match 2\n"
     ]
    }
   ],
   "source": [
    "#Metacharacters\n",
    "\n",
    "#The first metacharacter we will look at is . (dot). \n",
    "#This matches any character, other than a new line.\n",
    "#Example:\n",
    "\n",
    "import re\n",
    "\n",
    "pattern = r\"gr.y\"\n",
    "\n",
    "if re.match(pattern, \"grey\"):\n",
    "   print(\"Match 1\")\n",
    "\n",
    "if re.match(pattern, \"gray\"):\n",
    "   print(\"Match 2\")\n",
    "\n",
    "if re.match(pattern, \"blue\"):\n",
    "   print(\"Match 3\")"
   ]
  },
  {
   "cell_type": "code",
   "execution_count": 8,
   "metadata": {},
   "outputs": [
    {
     "name": "stdout",
     "output_type": "stream",
     "text": [
      "Match 1\n",
      "Match 2\n"
     ]
    }
   ],
   "source": [
    "#Metacharacters\n",
    "\n",
    "#The next two metacharacters are ^ and $.\n",
    "#These match the start and end of a string, respectively.\n",
    "#Example:\n",
    "\n",
    "import re\n",
    "\n",
    "pattern = r\"^gr.y$\"\n",
    "\n",
    "if re.match(pattern, \"grey\"):\n",
    "   print(\"Match 1\")\n",
    "\n",
    "if re.match(pattern, \"gray\"):\n",
    "   print(\"Match 2\")\n",
    "\n",
    "if re.match(pattern, \"stingray\"):\n",
    "   print(\"Match 3\")"
   ]
  },
  {
   "cell_type": "code",
   "execution_count": null,
   "metadata": {},
   "outputs": [],
   "source": [
    "#The pattern \"^gr.y$\" means that the string should start\n",
    "#with gr, then follow with any character, except a newline, and \n",
    "#end with y."
   ]
  },
  {
   "cell_type": "code",
   "execution_count": 10,
   "metadata": {},
   "outputs": [
    {
     "name": "stdout",
     "output_type": "stream",
     "text": [
      "Match 1\n",
      "Match 2\n"
     ]
    }
   ],
   "source": [
    "#Character Classes\n",
    "\n",
    "#Character classes provide a way to match only one of a specific set of characters.\n",
    "#A character class is created by putting the characters it matches inside square brackets.\n",
    "#Example:\n",
    "import re\n",
    "\n",
    "pattern = r\"[aeiou]\"\n",
    "\n",
    "if re.search(pattern, \"grey\"):\n",
    "   print(\"Match 1\")\n",
    "\n",
    "if re.search(pattern, \"qwertyuiop\"):\n",
    "   print(\"Match 2\")\n",
    "\n",
    "if re.search(pattern, \"rhythm myths\"):\n",
    "   print(\"Match 3\")"
   ]
  },
  {
   "cell_type": "code",
   "execution_count": null,
   "metadata": {},
   "outputs": [],
   "source": [
    "#The pattern [aeiou] in the search function matches all strings\n",
    "#that contain any one of the characters defined.\n"
   ]
  },
  {
   "cell_type": "code",
   "execution_count": 11,
   "metadata": {},
   "outputs": [
    {
     "name": "stdout",
     "output_type": "stream",
     "text": [
      "Match 1\n"
     ]
    }
   ],
   "source": [
    "#Character Classes\n",
    "\n",
    "#Character classes can also match ranges of characters. \n",
    "#Some examples:\n",
    "#The class [a-z] matches any lowercase alphabetic character.\n",
    "#The class [G-P] matches any uppercase character from G to P.\n",
    "#The class [0-9] matches any digit. \n",
    "#Multiple ranges can be included in one class. For example, [A-Za-z] matches a letter of any case.\n",
    "#Example:\n",
    "\n",
    "import re\n",
    "\n",
    "pattern = r\"[A-Z][A-Z][0-9]\"\n",
    "\n",
    "if re.search(pattern, \"LS8\"):\n",
    "   print(\"Match 1\")\n",
    "\n",
    "if re.search(pattern, \"E3\"):\n",
    "   print(\"Match 2\")\n",
    "\n",
    "if re.search(pattern, \"1ab\"):\n",
    "   print(\"Match 3\")"
   ]
  },
  {
   "cell_type": "code",
   "execution_count": null,
   "metadata": {},
   "outputs": [],
   "source": [
    "#The pattern in the example above matches strings that contain\n",
    "#two alphabetic uppercase letters followed by a digit."
   ]
  },
  {
   "cell_type": "code",
   "execution_count": 12,
   "metadata": {},
   "outputs": [
    {
     "name": "stdout",
     "output_type": "stream",
     "text": [
      "Match 1\n",
      "Match 2\n"
     ]
    }
   ],
   "source": [
    "#Character Classes\n",
    "\n",
    "#Place a ^ at the start of a character class to invert it. \n",
    "#This causes it to match any character other than the ones included. \n",
    "#Other metacharacters such as $ and ., have no meaning within character classes. \n",
    "#The metacharacter ^ has no meaning unless it is the first character in a class.\n",
    "\n",
    "#Example:\n",
    "\n",
    "import re\n",
    "\n",
    "pattern = r\"[^A-Z]\"\n",
    "\n",
    "if re.search(pattern, \"this is all quiet\"):\n",
    "   print(\"Match 1\")\n",
    "\n",
    "if re.search(pattern, \"AbCdEfG123\"):\n",
    "   print(\"Match 2\")\n",
    "\n",
    "if re.search(pattern, \"THISISALLSHOUTING\"):\n",
    "   print(\"Match 3\")"
   ]
  },
  {
   "cell_type": "code",
   "execution_count": 13,
   "metadata": {},
   "outputs": [
    {
     "name": "stdout",
     "output_type": "stream",
     "text": [
      "Match 1\n",
      "Match 2\n"
     ]
    }
   ],
   "source": [
    "#Metacharacters\n",
    "\n",
    "#Some more metacharacters are *, +, ?, { and }.\n",
    "#These specify numbers of repetitions. \n",
    "#The metacharacter * means \"zero or more repetitions of the\n",
    "#previous thing\". It tries to match as many repetitions as \n",
    "#possible. The \"previous thing\" can be a single character, \n",
    "#a class, or a group of characters in parentheses.\n",
    "#Example:\n",
    "\n",
    "import re\n",
    "\n",
    "pattern = r\"egg(spam)*\"\n",
    "\n",
    "if re.match(pattern, \"egg\"):\n",
    "   print(\"Match 1\")\n",
    "\n",
    "if re.match(pattern, \"eggspamspamegg\"):\n",
    "   print(\"Match 2\")\n",
    "\n",
    "if re.match(pattern, \"spam\"):\n",
    "   print(\"Match 3\")"
   ]
  },
  {
   "cell_type": "code",
   "execution_count": null,
   "metadata": {},
   "outputs": [],
   "source": [
    "#The example above matches strings that start with \"egg\" \n",
    "#and follow with zero or more \"spam\"s."
   ]
  },
  {
   "cell_type": "code",
   "execution_count": 14,
   "metadata": {},
   "outputs": [
    {
     "name": "stdout",
     "output_type": "stream",
     "text": [
      "Match 1\n",
      "Match 2\n"
     ]
    }
   ],
   "source": [
    "#Metacharacters\n",
    "\n",
    "#The metacharacter + is very similar to *, except it means \"one or more repetitions\", as opposed to \"zero or more repetitions\".\n",
    "#Example:\n",
    "\n",
    "import re\n",
    "\n",
    "pattern = r\"g+\"\n",
    "\n",
    "if re.match(pattern, \"g\"):\n",
    "   print(\"Match 1\")\n",
    "\n",
    "if re.match(pattern, \"gggggggggggggg\"):\n",
    "   print(\"Match 2\")\n",
    "\n",
    "if re.match(pattern, \"abc\"):\n",
    "   print(\"Match 3\")"
   ]
  },
  {
   "cell_type": "code",
   "execution_count": null,
   "metadata": {},
   "outputs": [],
   "source": [
    "# To summarize:\n",
    "# * matches 0 or more occurrences of the preceding expression.\n",
    "# + matches 1 or more occurrence of the preceding expression."
   ]
  },
  {
   "cell_type": "code",
   "execution_count": 15,
   "metadata": {},
   "outputs": [
    {
     "name": "stdout",
     "output_type": "stream",
     "text": [
      "Match 1\n",
      "Match 2\n"
     ]
    }
   ],
   "source": [
    "#Metacharacters\n",
    "\n",
    "#The metacharacter ? means \"zero or one repetitions\".\n",
    "#Example:\n",
    "\n",
    "import re\n",
    "\n",
    "pattern = r\"ice(-)?cream\"\n",
    "\n",
    "if re.match(pattern, \"ice-cream\"):\n",
    "   print(\"Match 1\")\n",
    "\n",
    "if re.match(pattern, \"icecream\"):\n",
    "   print(\"Match 2\")\n",
    "\n",
    "if re.match(pattern, \"sausages\"):\n",
    "   print(\"Match 3\")\n",
    "\n",
    "if re.match(pattern, \"ice--ice\"):\n",
    "   print(\"Match 4\")"
   ]
  },
  {
   "cell_type": "code",
   "execution_count": 16,
   "metadata": {},
   "outputs": [
    {
     "name": "stdout",
     "output_type": "stream",
     "text": [
      "Match 1\n",
      "Match 2\n"
     ]
    }
   ],
   "source": [
    "#Curly Braces\n",
    "\n",
    "#Curly braces can be used to represent the number of repetitions between two numbers.\n",
    "#The regex {x,y} means \"between x and y repetitions of something\". \n",
    "#Hence {0,1} is the same thing as ?.\n",
    "#If the first number is missing, it is taken to be zero. If the second number is missing, it is taken to be infinity.\n",
    "#Example:\n",
    "\n",
    "import re\n",
    "\n",
    "pattern = r\"9{1,3}$\"\n",
    "\n",
    "if re.match(pattern, \"9\"):\n",
    "   print(\"Match 1\")\n",
    "\n",
    "if re.match(pattern, \"999\"):\n",
    "   print(\"Match 2\")\n",
    "\n",
    "if re.match(pattern, \"9999\"):\n",
    "   print(\"Match 3\")"
   ]
  },
  {
   "cell_type": "code",
   "execution_count": null,
   "metadata": {},
   "outputs": [],
   "source": [
    "# \"9{1,3}$\" matches string that have 1 to 3 nines."
   ]
  },
  {
   "cell_type": "code",
   "execution_count": 17,
   "metadata": {},
   "outputs": [
    {
     "name": "stdout",
     "output_type": "stream",
     "text": [
      "Match 1\n",
      "Match 2\n"
     ]
    }
   ],
   "source": [
    "#Groups\n",
    "\n",
    "#A group can be created by surrounding part of a regular expression with parentheses. \n",
    "#This means that a group can be given as an argument to metacharacters such as * and ?.\n",
    "#Example:\n",
    "\n",
    "import re\n",
    "\n",
    "pattern = r\"egg(spam)*\"\n",
    "\n",
    "if re.match(pattern, \"egg\"):\n",
    "   print(\"Match 1\")\n",
    "\n",
    "if re.match(pattern, \"eggspamspamspamegg\"):\n",
    "   print(\"Match 2\")\n",
    "\n",
    "if re.match(pattern, \"spam\"):\n",
    "   print(\"Match 3\")"
   ]
  },
  {
   "cell_type": "code",
   "execution_count": 18,
   "metadata": {},
   "outputs": [
    {
     "name": "stdout",
     "output_type": "stream",
     "text": [
      "abcdefghi\n",
      "abcdefghi\n",
      "bc\n",
      "de\n",
      "('bc', 'de', 'fgh', 'g')\n"
     ]
    }
   ],
   "source": [
    "#Groups\n",
    "\n",
    "#The content of groups in a match can be accessed using the group function.\n",
    "#A call of group(0) or group() returns the whole match. \n",
    "#A call of group(n), where n is greater than 0, returns the nth group from the left. \n",
    "#The method groups() returns all groups up from 1.\n",
    "#Example:\n",
    "\n",
    "import re\n",
    "\n",
    "pattern = r\"a(bc)(de)(f(g)h)i\"\n",
    "\n",
    "match = re.match(pattern, \"abcdefghijklmnop\")\n",
    "if match:\n",
    "   print(match.group())\n",
    "   print(match.group(0))\n",
    "   print(match.group(1))\n",
    "   print(match.group(2))\n",
    "   print(match.groups())"
   ]
  },
  {
   "cell_type": "code",
   "execution_count": 19,
   "metadata": {},
   "outputs": [
    {
     "name": "stdout",
     "output_type": "stream",
     "text": [
      "abc\n",
      "('abc', 'ghi')\n"
     ]
    }
   ],
   "source": [
    "#Groups\n",
    "\n",
    "#There are several kinds of special groups. \n",
    "#Two useful ones are named groups and non-capturing groups.\n",
    "#Named groups have the format (?P<name>...), where name is the name of the group, and ... is the content. They behave exactly the same as normal groups, except they can be accessed by group(name) in addition to its number.\n",
    "#Non-capturing groups have the format (?:...). They are not accessible by the group method, so they can be added to an existing regular expression without breaking the numbering.\n",
    "#Example:\n",
    "\n",
    "import re\n",
    "\n",
    "pattern = r\"(?P<first>abc)(?:def)(ghi)\"\n",
    "\n",
    "match = re.match(pattern, \"abcdefghi\")\n",
    "if match:\n",
    "   print(match.group(\"first\"))\n",
    "   print(match.groups())"
   ]
  },
  {
   "cell_type": "code",
   "execution_count": 24,
   "metadata": {},
   "outputs": [
    {
     "name": "stdout",
     "output_type": "stream",
     "text": [
      "Match 1\n",
      "Match 2\n"
     ]
    }
   ],
   "source": [
    "#Metacharacters\n",
    "\n",
    "#Another important metacharacter is |.\n",
    "#This means \"or\", so red|blue matches either \"red\" or \"blue\".\n",
    "#Example:\n",
    "\n",
    "import re\n",
    "\n",
    "pattern = r\"gr(a|e)y\"\n",
    "\n",
    "match = re.match(pattern, \"gray\")\n",
    "if match:\n",
    "   print (\"Match 1\")\n",
    "\n",
    "match = re.match(pattern, \"grey\")\n",
    "if match:\n",
    "   print (\"Match 2\")    \n",
    "\n",
    "match = re.match(pattern, \"griy\")\n",
    "if match:\n",
    "    print (\"Match 3\")"
   ]
  },
  {
   "cell_type": "code",
   "execution_count": 25,
   "metadata": {},
   "outputs": [
    {
     "name": "stdout",
     "output_type": "stream",
     "text": [
      "Match 1\n",
      "Match 2\n"
     ]
    }
   ],
   "source": [
    "#Special Sequences\n",
    "\n",
    "#There are various special sequences you can use in regular expressions.\n",
    "#They are written as a backslash followed by another character. \n",
    "#One useful special sequence is a backslash and a number between 1 and 99,\n",
    "#e.g., \\1 or \\17. This matches the expression of the group of that number.\n",
    "#Example:\n",
    "\n",
    "import re\n",
    "\n",
    "pattern = r\"(.+) \\1\"\n",
    "\n",
    "match = re.match(pattern, \"word word\")\n",
    "if match:\n",
    "   print (\"Match 1\")\n",
    "\n",
    "match = re.match(pattern, \"?! ?!\")\n",
    "if match:\n",
    "   print (\"Match 2\")    \n",
    "\n",
    "match = re.match(pattern, \"abc cde\")\n",
    "if match:\n",
    "   print (\"Match 3\")"
   ]
  },
  {
   "cell_type": "code",
   "execution_count": null,
   "metadata": {},
   "outputs": [],
   "source": [
    "#Note, that \"(.+) \\1\" is not the same as \"(.+) (.+)\",\n",
    "#because \\1 refers to the first group's subexpression,\n",
    "#which is the matched expression itself, and not the regex pattern."
   ]
  },
  {
   "cell_type": "code",
   "execution_count": 26,
   "metadata": {},
   "outputs": [
    {
     "name": "stdout",
     "output_type": "stream",
     "text": [
      "Match 1\n"
     ]
    }
   ],
   "source": [
    "#Special Sequences\n",
    "\n",
    "#More useful special sequences are \\d, \\s, and \\w.\n",
    "#These match digits, whitespace, and word characters respectively. \n",
    "#In ASCII mode they are equivalent to [0-9], [ \\t\\n\\r\\f\\v], and [a-zA-Z0-9_].\n",
    "#In Unicode mode they match certain other characters, as well. For instance, \\w matches letters with accents.\n",
    "#Versions of these special sequences with upper case letters - \\D, \\S, and \\W - mean the opposite to the lower-case versions. For instance, \\D matches anything that isn't a digit.\n",
    "#Example:\n",
    "\n",
    "import re\n",
    "\n",
    "pattern = r\"(\\D+\\d)\"\n",
    "\n",
    "match = re.match(pattern, \"Hi 999!\")\n",
    "\n",
    "if match:\n",
    "   print(\"Match 1\")\n",
    "\n",
    "match = re.match(pattern, \"1, 23, 456!\")\n",
    "if match:\n",
    "   print(\"Match 2\")\n",
    "\n",
    "match = re.match(pattern, \" ! $?\")\n",
    "if match:\n",
    "    print(\"Match 3\")"
   ]
  },
  {
   "cell_type": "code",
   "execution_count": null,
   "metadata": {},
   "outputs": [],
   "source": [
    "#(\\D+\\d) matches one or more non-digits followed by a digit."
   ]
  },
  {
   "cell_type": "code",
   "execution_count": 27,
   "metadata": {},
   "outputs": [
    {
     "name": "stdout",
     "output_type": "stream",
     "text": [
      "Match 1\n",
      "Match 2\n"
     ]
    }
   ],
   "source": [
    "#Special Sequences\n",
    "\n",
    "#Additional special sequences are \\A, \\Z, and \\b.\n",
    "#The sequences \\A and \\Z match the beginning and end of a string, respectively. \n",
    "#The sequence \\b matches the empty string between \\w and \\W characters, or \\w characters and the beginning or end of the string. Informally, it represents the boundary between words.\n",
    "#The sequence \\B matches the empty string anywhere else.\n",
    "#Example:\n",
    "\n",
    "import re\n",
    "\n",
    "pattern = r\"\\b(cat)\\b\"\n",
    "\n",
    "match = re.search(pattern, \"The cat sat!\")\n",
    "if match:\n",
    "   print (\"Match 1\")\n",
    "\n",
    "match = re.search(pattern, \"We s>cat<tered?\")\n",
    "if match:\n",
    "   print (\"Match 2\")\n",
    "\n",
    "match = re.search(pattern, \"We scattered.\")\n",
    "if match:\n",
    "   print (\"Match 3\")"
   ]
  },
  {
   "cell_type": "code",
   "execution_count": null,
   "metadata": {},
   "outputs": [],
   "source": [
    "# \"\\b(cat)\\b\" basically matches the word \"cat\" surrounded \n",
    "# by word boundaries."
   ]
  },
  {
   "cell_type": "code",
   "execution_count": 28,
   "metadata": {},
   "outputs": [],
   "source": [
    "#Email Extraction\n",
    "\n",
    "#To demonstrate a sample usage of regular expressions, lets create a program to extract email addresses from a string.\n",
    "#Suppose we have a text that contains an email address:\n",
    "str = \"Please contact info@sololearn.com for assistance\"\n",
    "\n",
    "#Our goal is to extract the substring \"info@sololearn.com\".\n",
    "#A basic email address consists of a word and may include dots or dashes. This is followed by the @ sign and the domain name (the name, a dot, and the domain name suffix).\n",
    "#This is the basis for building our regular expression.\n",
    "pattern = r\"([\\w\\.-]+)@([\\w\\.-]+)(\\.[\\w\\.]+)\"\n",
    "\n",
    "#[\\w\\.-]+ matches one or more word character, dot or dash.\n",
    "#The regex above says that the string should contain a word (with dots and dashes allowed), followed by the @ sign, then another similar word, then a dot and another word.\n",
    "#Our regex contains three groups:\n",
    "# 1 - first part of the email address.\n",
    "# 2 - domain name without the suffix.\n",
    "# 3 - the domain suffix."
   ]
  },
  {
   "cell_type": "code",
   "execution_count": 29,
   "metadata": {},
   "outputs": [
    {
     "name": "stdout",
     "output_type": "stream",
     "text": [
      "info@sololearn.com\n"
     ]
    }
   ],
   "source": [
    "import re\n",
    "\n",
    "pattern = r\"([\\w\\.-]+)@([\\w\\.-]+)(\\.[\\w\\.]+)\"\n",
    "str = \"Please contact info@sololearn.com for assistance\"\n",
    "\n",
    "match = re.search(pattern, str)\n",
    "if match:\n",
    "   print(match.group())"
   ]
  },
  {
   "cell_type": "code",
   "execution_count": null,
   "metadata": {},
   "outputs": [],
   "source": []
  }
 ],
 "metadata": {
  "kernelspec": {
   "display_name": "Python 3",
   "language": "python",
   "name": "python3"
  },
  "language_info": {
   "codemirror_mode": {
    "name": "ipython",
    "version": 3
   },
   "file_extension": ".py",
   "mimetype": "text/x-python",
   "name": "python",
   "nbconvert_exporter": "python",
   "pygments_lexer": "ipython3",
   "version": "3.6.4"
  }
 },
 "nbformat": 4,
 "nbformat_minor": 2
}
