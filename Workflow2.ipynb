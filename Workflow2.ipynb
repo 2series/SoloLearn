{
 "cells": [
  {
   "cell_type": "code",
   "execution_count": 1,
   "metadata": {},
   "outputs": [
    {
     "data": {
      "text/plain": [
       "True"
      ]
     },
     "execution_count": 1,
     "metadata": {},
     "output_type": "execute_result"
    }
   ],
   "source": [
    "# boolean & comparisons\n",
    "8.7 <= 8.70"
   ]
  },
  {
   "cell_type": "code",
   "execution_count": 2,
   "metadata": {},
   "outputs": [
    {
     "name": "stdout",
     "output_type": "stream",
     "text": [
      "10 is greater than 5\n",
      "program ended\n"
     ]
    }
   ],
   "source": [
    "# if Statement\n",
    "if 10 > 5:\n",
    "    print('10 is greater than 5')\n",
    "\n",
    "print('program ended')"
   ]
  },
  {
   "cell_type": "code",
   "execution_count": 3,
   "metadata": {},
   "outputs": [
    {
     "name": "stdout",
     "output_type": "stream",
     "text": [
      "five\n"
     ]
    }
   ],
   "source": [
    "# what is the output?\n",
    "# if statements\n",
    "spam = 7\n",
    "if spam > 5:\n",
    "    print('five')\n",
    "if spam > 8:\n",
    "    print('eight')"
   ]
  },
  {
   "cell_type": "code",
   "execution_count": 4,
   "metadata": {},
   "outputs": [
    {
     "name": "stdout",
     "output_type": "stream",
     "text": [
      "3\n"
     ]
    }
   ],
   "source": [
    "# what is the output?\n",
    "num = 7\n",
    "if num > 3:\n",
    "    print('3')\n",
    "    if num < 5:\n",
    "        print('5')\n",
    "        if num == 7:\n",
    "            print('7')"
   ]
  },
  {
   "cell_type": "code",
   "execution_count": 5,
   "metadata": {},
   "outputs": [
    {
     "name": "stdout",
     "output_type": "stream",
     "text": [
      "else\n"
     ]
    }
   ],
   "source": [
    "# else statements\n",
    "if 1 + 1 == 2:\n",
    "    if 2 *2 == 8:\n",
    "        print('if')\n",
    "    else:\n",
    "        print('else')"
   ]
  },
  {
   "cell_type": "code",
   "execution_count": 6,
   "metadata": {},
   "outputs": [
    {
     "name": "stdout",
     "output_type": "stream",
     "text": [
      "true\n"
     ]
    }
   ],
   "source": [
    "# Boolean logic\n",
    "# and, or, not\n",
    "if (1 == 1) and (2 + 2 > 3):\n",
    "    print('true')\n",
    "else:\n",
    "    print('false')"
   ]
  },
  {
   "cell_type": "code",
   "execution_count": 7,
   "metadata": {},
   "outputs": [
    {
     "name": "stdout",
     "output_type": "stream",
     "text": [
      "2\n"
     ]
    }
   ],
   "source": [
    "# Boolean Not\n",
    "\n",
    "# Unlike other operators we've seen so far, not only takes one argument, and inverts it. \n",
    "# The result of not True is False, and not False goes to True.\n",
    "if not True:\n",
    "    print('1')\n",
    "elif not (1 + 1 ==3):\n",
    "    print('2')\n",
    "else:\n",
    "    print('3')"
   ]
  },
  {
   "cell_type": "code",
   "execution_count": 8,
   "metadata": {},
   "outputs": [
    {
     "name": "stdout",
     "output_type": "stream",
     "text": [
      "no\n"
     ]
    }
   ],
   "source": [
    "# Operator Precedence\n",
    "\n",
    "# Operator precedence is a very important concept in programming. \n",
    "# It is an extension of the mathematical idea of order of operations\n",
    "# (multiplication being performed before addition, etc.)\n",
    "# to include other operators, such as those in Boolean logic.\n",
    "if 1 + 1 * 3 == 6:\n",
    "    print('yes')\n",
    "else:\n",
    "    print('no')"
   ]
  },
  {
   "cell_type": "code",
   "execution_count": 9,
   "metadata": {},
   "outputs": [
    {
     "name": "stdout",
     "output_type": "stream",
     "text": [
      "n\n"
     ]
    }
   ],
   "source": [
    "x = 4\n",
    "y = 2\n",
    "if not 1 + 1 == y or x == 4 and 7 == 8:\n",
    "    print('y')\n",
    "elif x > y:\n",
    "    print('n')"
   ]
  },
  {
   "cell_type": "code",
   "execution_count": 10,
   "metadata": {},
   "outputs": [
    {
     "name": "stdout",
     "output_type": "stream",
     "text": [
      "3\n",
      "2\n",
      "1\n",
      "0\n"
     ]
    }
   ],
   "source": [
    "# while Loops\n",
    "\n",
    "# An if statement is run once if its condition evaluates to True, \n",
    "# and never if it evaluates to False. \n",
    "# A while statement is similar, except that it can be run more than once. \n",
    "# The statements inside it are repeatedly executed, as long as the condition\n",
    "# holds. Once it evaluates to False, the next section of code is executed. \n",
    "i =3\n",
    "while i >= 0:\n",
    "    print(i)\n",
    "    i = i - 1"
   ]
  },
  {
   "cell_type": "code",
   "execution_count": 11,
   "metadata": {},
   "outputs": [],
   "source": [
    "# while Loops\n",
    "\n",
    "# The infinite loop is a special kind of while loop; it never stops running. Its condition always remains True. \n"
   ]
  },
  {
   "cell_type": "code",
   "execution_count": 12,
   "metadata": {},
   "outputs": [
    {
     "name": "stdout",
     "output_type": "stream",
     "text": [
      "5\n",
      "4\n",
      "3\n"
     ]
    }
   ],
   "source": [
    "# break\n",
    "\n",
    "# To end a while loop prematurely, the break statement can be used. \n",
    "# When encountered inside a loop, the break statement causes the loop to finish immediately.\n",
    "i = 5\n",
    "while True:\n",
    "    print(i)\n",
    "    i = i -1\n",
    "    if i <= 2:\n",
    "        break"
   ]
  },
  {
   "cell_type": "code",
   "execution_count": 13,
   "metadata": {},
   "outputs": [
    {
     "name": "stdout",
     "output_type": "stream",
     "text": [
      "4\n"
     ]
    }
   ],
   "source": [
    "# Lists\n",
    "\n",
    "# Lists are another type of object in Python. \n",
    "# They are used to store an indexed list of items. \n",
    "# A list is created using square brackets with commas separating items.\n",
    "# The certain item in the list can be accessed by using its index\n",
    "# in square brackets.\n",
    "\n",
    "nums = [5, 4, 3, 2, 1]\n",
    "print(nums[1])"
   ]
  },
  {
   "cell_type": "code",
   "execution_count": 14,
   "metadata": {},
   "outputs": [
    {
     "data": {
      "text/plain": [
       "[2]"
      ]
     },
     "execution_count": 14,
     "metadata": {},
     "output_type": "execute_result"
    }
   ],
   "source": [
    "# Lists\n",
    "\n",
    "# An empty list is created with an empty pair of square brackets.\n",
    "[2,]"
   ]
  },
  {
   "cell_type": "code",
   "execution_count": 15,
   "metadata": {},
   "outputs": [],
   "source": [
    "# Lists\n",
    "\n",
    "# Typically, a list will contain items of a single item type, \n",
    "# but it is also possible to include several different types. \n",
    "# Lists can also be nested within other lists.\n"
   ]
  },
  {
   "cell_type": "code",
   "execution_count": 16,
   "metadata": {},
   "outputs": [],
   "source": [
    "# Lists\n",
    "\n",
    "# Indexing out of the bounds of possible list values causes an IndexError.\n",
    "# Some types, such as strings, can be indexed like lists. \n",
    "# Indexing strings behaves as though you are indexing a list containing each\n",
    "# character in the string. \n",
    "# For other types, such as integers, indexing them isn't \n",
    "# possible, and it causes a TypeError."
   ]
  },
  {
   "cell_type": "code",
   "execution_count": 17,
   "metadata": {},
   "outputs": [
    {
     "ename": "IndexError",
     "evalue": "list index out of range",
     "output_type": "error",
     "traceback": [
      "\u001b[0;31m---------------------------------------------------------------------------\u001b[0m",
      "\u001b[0;31mIndexError\u001b[0m                                Traceback (most recent call last)",
      "\u001b[0;32m<ipython-input-17-29517170ca26>\u001b[0m in \u001b[0;36m<module>\u001b[0;34m()\u001b[0m\n\u001b[1;32m      1\u001b[0m \u001b[0mnum\u001b[0m \u001b[0;34m=\u001b[0m \u001b[0;34m[\u001b[0m\u001b[0;36m5\u001b[0m\u001b[0;34m,\u001b[0m \u001b[0;36m4\u001b[0m\u001b[0;34m,\u001b[0m \u001b[0;36m3\u001b[0m\u001b[0;34m,\u001b[0m\u001b[0;34m[\u001b[0m\u001b[0;36m2\u001b[0m\u001b[0;34m]\u001b[0m\u001b[0;34m,\u001b[0m \u001b[0;36m1\u001b[0m\u001b[0;34m]\u001b[0m\u001b[0;34m\u001b[0m\u001b[0m\n\u001b[0;32m----> 2\u001b[0;31m \u001b[0mprint\u001b[0m\u001b[0;34m(\u001b[0m\u001b[0mnum\u001b[0m\u001b[0;34m[\u001b[0m\u001b[0;36m5\u001b[0m\u001b[0;34m]\u001b[0m\u001b[0;34m)\u001b[0m\u001b[0;34m\u001b[0m\u001b[0m\n\u001b[0m",
      "\u001b[0;31mIndexError\u001b[0m: list index out of range"
     ]
    }
   ],
   "source": [
    "num = [5, 4, 3,[2], 1]\n",
    "print(num[5])"
   ]
  },
  {
   "cell_type": "code",
   "execution_count": null,
   "metadata": {},
   "outputs": [],
   "source": [
    "# List Operations\n",
    "\n",
    "# The item at a certain index in a list can be reassigned.\n",
    "nums = [7, 7, 7, 7, 7, 7]\n",
    "nums[2] = 5\n",
    "print(nums)"
   ]
  },
  {
   "cell_type": "code",
   "execution_count": null,
   "metadata": {},
   "outputs": [],
   "source": [
    "nums = [1, 2, 3, 4, 5]\n",
    "nums[3] = nums[1]\n",
    "print(nums[3])"
   ]
  },
  {
   "cell_type": "code",
   "execution_count": null,
   "metadata": {},
   "outputs": [],
   "source": [
    "# List Operations\n",
    "\n",
    "# To check if an item is in a list, the in operator can be used.\n",
    "# It returns True if the item occurs one or more times in the list,\n",
    "# and False if it doesn't.\n",
    "nums = [10, 9, 8, 7, 6, 5]\n",
    "nums[0] = nums[1] - 5\n",
    "if 4 in nums:\n",
    "    print(nums[3])\n",
    "else:\n",
    "    print(nums[4])"
   ]
  },
  {
   "cell_type": "code",
   "execution_count": null,
   "metadata": {},
   "outputs": [],
   "source": [
    "# List Functions\n",
    "\n",
    "# Another way of altering lists is using the append method. \n",
    "# This adds an item to the end of an existing list\n",
    "nums = [1, 2, 3]\n",
    "nums.append(4)\n",
    "print(nums)"
   ]
  },
  {
   "cell_type": "code",
   "execution_count": null,
   "metadata": {},
   "outputs": [],
   "source": [
    "words = ['hello']\n",
    "words.append('world')\n",
    "print(words[1])"
   ]
  },
  {
   "cell_type": "code",
   "execution_count": null,
   "metadata": {},
   "outputs": [],
   "source": [
    "# List Functions\n",
    "\n",
    "# To get the number of items in a list, you can use the\n",
    "# len function.\n",
    "nums = [1, 3, 5, 2, 4]\n",
    "print(len(nums))"
   ]
  },
  {
   "cell_type": "code",
   "execution_count": null,
   "metadata": {},
   "outputs": [],
   "source": [
    "# List Functions\n",
    "\n",
    "# The insert method is similar to append, except that it\n",
    "# allows you to insert a new item at any position in the\n",
    "# list, as opposed to just at the end.\n",
    "words = ['python', 'fun']\n",
    "index = 1\n",
    "words.insert(index, 'is')\n",
    "print(words)"
   ]
  },
  {
   "cell_type": "code",
   "execution_count": null,
   "metadata": {},
   "outputs": [],
   "source": [
    "nums = [9, 8, 7, 6, 5]\n",
    "nums.append(4)\n",
    "nums.insert(2, 11)\n",
    "print(len(nums))"
   ]
  },
  {
   "cell_type": "code",
   "execution_count": null,
   "metadata": {},
   "outputs": [],
   "source": [
    "# List Functions\n",
    "\n",
    "# The index method finds the first occurrence of a list \n",
    "# item and returns its index.\n",
    "# If the item isn't in the list, it raises a ValueError.\n",
    "# There are a few more useful functions and methods for lists. \n",
    "# max(list): Returns the list item with the maximum value\n",
    "# min(list): Returns the list item with minimum value\n",
    "# list.count(obj): Returns a count of how many times an item occurs in a list\n",
    "# list.remove(obj): Removes an object from a list\n",
    "# list.reverse(): Reverses objects in a list"
   ]
  },
  {
   "cell_type": "code",
   "execution_count": null,
   "metadata": {},
   "outputs": [],
   "source": [
    "# Range\n",
    "\n",
    "# The range function creates a sequential list of numbers.\n",
    "# The code below generates a list containing all of the integers, up to 10.\n",
    "nums = list(range(10))\n",
    "print(nums)"
   ]
  },
  {
   "cell_type": "code",
   "execution_count": null,
   "metadata": {},
   "outputs": [],
   "source": [
    "# The call to list is necessary because range by itself creates a range object, and this must be converted to a list if you want\n",
    "# to use it as one."
   ]
  },
  {
   "cell_type": "code",
   "execution_count": null,
   "metadata": {},
   "outputs": [],
   "source": [
    "nums = list(range(5))\n",
    "print(nums[4])"
   ]
  },
  {
   "cell_type": "code",
   "execution_count": null,
   "metadata": {},
   "outputs": [],
   "source": [
    "# Range\n",
    "\n",
    "# If range is called with one argument, it produces an\n",
    "# object with values from 0 to that argument. \n",
    "# If it is called with two arguments, it produces values\n",
    "# from the first to the second.\n",
    "# For example:\n",
    "nums = list(range(3, 8))\n",
    "print(nums)\n",
    "\n",
    "print(range(20) == range(0, 20))"
   ]
  },
  {
   "cell_type": "code",
   "execution_count": null,
   "metadata": {},
   "outputs": [],
   "source": [
    "nums = list(range(5, 8))\n",
    "print(len(nums))"
   ]
  },
  {
   "cell_type": "code",
   "execution_count": null,
   "metadata": {},
   "outputs": [],
   "source": [
    "# Range\n",
    "\n",
    "#  range can have a third argument, which determines the\n",
    "# interval of the sequence produced. This third argument \n",
    "# must be an integer.\n",
    "nums = list(range(5, 20, 2))\n",
    "print(nums)"
   ]
  },
  {
   "cell_type": "code",
   "execution_count": null,
   "metadata": {},
   "outputs": [],
   "source": [
    "nums = list(range(3, 15, 3))\n",
    "print(nums[2])"
   ]
  },
  {
   "cell_type": "code",
   "execution_count": null,
   "metadata": {},
   "outputs": [],
   "source": [
    "# Loops\n",
    "\n",
    "# Sometimes, you need to perform code on each item in a list.\n",
    "# This is called iteration, and it can be accomplished with a \n",
    "# while loop and a counter variable.\n",
    "# For example:\n",
    "words = ['hello', 'world', 'spam', 'eggs']\n",
    "counter = 0\n",
    "max_index = len(words) - 1\n",
    "\n",
    "while counter <= max_index:\n",
    "    word = words[counter]\n",
    "    print(word + '!')\n",
    "    counter = counter + 1"
   ]
  },
  {
   "cell_type": "code",
   "execution_count": null,
   "metadata": {},
   "outputs": [],
   "source": [
    "# The example above iterates through all items in the list, accesses them using their indices, and prints them with \n",
    "# exclamation marks."
   ]
  },
  {
   "cell_type": "code",
   "execution_count": null,
   "metadata": {},
   "outputs": [],
   "source": [
    "# for Loop\n",
    "\n",
    "# Iterating through a list using a while loop requires quite\n",
    "# a lot of code, so Python provides the for loop as a \n",
    "# shortcut that accomplishes the same thing.\n",
    "# The same code from the previous example can be written\n",
    "# with a for loop, as follows:\n",
    "words = ['hello', 'world', 'spam', 'eggs']\n",
    "for word in words:\n",
    "    print(word + '!')"
   ]
  },
  {
   "cell_type": "code",
   "execution_count": null,
   "metadata": {},
   "outputs": [],
   "source": [
    "# The for loop in Python is like the foreach loop in other languages."
   ]
  },
  {
   "cell_type": "code",
   "execution_count": null,
   "metadata": {},
   "outputs": [],
   "source": [
    "#for Loops\n",
    "\n",
    "# The for loop is commonly used to repeat some code a certain\n",
    "# number of times. This is done by combining\n",
    "# for loops with range objects.\n",
    "for i in range(5):\n",
    "    print('hello')"
   ]
  },
  {
   "cell_type": "code",
   "execution_count": null,
   "metadata": {},
   "outputs": [],
   "source": [
    "# You don't need to call list on the range object when it is used in a for loop, because it isn't being indexed, so a list\n",
    "# isn't required."
   ]
  },
  {
   "cell_type": "code",
   "execution_count": null,
   "metadata": {},
   "outputs": [],
   "source": [
    "# Creating a Calculator\n",
    "\n",
    "# This lesson is about an example Python project: a simple\n",
    "# calculator. \n",
    "# Each part explains a different section of the program. \n",
    "# The first section is the overall menu. This keeps on\n",
    "# accepting user input until the user\n",
    "# enters \"quit\", so a while loop is used\n",
    "while True:\n",
    "    print('Options:')\n",
    "    print('Enter' 'add' to add two numbers')\n",
    "    print('Enter' 'subtract' to subtract two numbers')\n",
    "    print('Enter' 'multiply' to multiply two numbers')\n",
    "    print('Enter' 'divide' to divide two numbers')\n",
    "    print('Enter' 'quit' to end two numbers')\n",
    "    user_input = input(':')\n",
    "\n",
    "if user_input == 'quit':\n",
    "    break\n",
    "elif user_input == 'add':\n",
    "\n",
    "elif user_input == 'subtract':\n",
    "        \n",
    "elif user_input == 'multiply':\n",
    "          \n",
    "elif user_input == 'divide':\n",
    "          \n",
    "else:\n",
    "    print('Unknown input')"
   ]
  },
  {
   "cell_type": "code",
   "execution_count": null,
   "metadata": {},
   "outputs": [],
   "source": [
    "# The code above is the starting point for our program. \n",
    "# It accepts user input, and compares it to the options\n",
    "# in the if/elif statements.\n",
    "# The break statement is used to stop the while loop, in case\n",
    "# the user inputs \"quit\"."
   ]
  },
  {
   "cell_type": "code",
   "execution_count": null,
   "metadata": {},
   "outputs": [],
   "source": [
    "# Creating a Calculator\n",
    "\n",
    "# The next part of the program is getting the numbers\n",
    "# the user wants to do something with. \n",
    "# The code below shows this for the addition section of the\n",
    "# calculator. Similar code would have to be written for the\n",
    "# other sections.\n",
    "elif user_input == 'add':\n",
    "    num1 = float(input('Enter a number.'))\n",
    "    num2 = float(input('Enter another number.'))\n",
    "# Now, when the user inputs \"add\", the program prompts to enter two\n",
    "# numbers, and stores them in the corresponding variables.\n",
    "\n"
   ]
  },
  {
   "cell_type": "code",
   "execution_count": null,
   "metadata": {},
   "outputs": [],
   "source": [
    "# As it is, this code crashes if the user enters a non-numeric input when prompted to enter a number. We will look at fixing problems like this in a later module."
   ]
  },
  {
   "cell_type": "code",
   "execution_count": null,
   "metadata": {},
   "outputs": [],
   "source": [
    "# Creating a Calculator\n",
    "\n",
    "# The final part of the program processes user input and displays it. \n",
    "# The code for the addition part is shown here.\n",
    "elif user_input == 'add':\n",
    "    num1 = float(input('Enter a number.'))\n",
    "    num2 = float(input('Enter another number.'))\n",
    "    result = str(num1 + num2)\n",
    "    print('Ther answer is' + result)"
   ]
  },
  {
   "cell_type": "code",
   "execution_count": null,
   "metadata": {},
   "outputs": [],
   "source": [
    "# We now have a working program that prompts for user input, and then calculates and prints the sum of the input."
   ]
  },
  {
   "cell_type": "code",
   "execution_count": null,
   "metadata": {},
   "outputs": [],
   "source": [
    "# Similar code would have to be written for the other branches \n",
    "# (for subtraction, multiplication and division).\n",
    "# The output line could be put outside the if statements \n",
    "# to omit repetition of code."
   ]
  },
  {
   "cell_type": "code",
   "execution_count": null,
   "metadata": {},
   "outputs": [],
   "source": [
    "# quiz\n",
    "\n",
    "list = [1, 1, 2, 3, 5, 8, 13]\n",
    "print(list[list[4]])"
   ]
  },
  {
   "cell_type": "code",
   "execution_count": null,
   "metadata": {},
   "outputs": [],
   "source": [
    "for i in range(10):\n",
    "    if not i % 2 == 0:\n",
    "        print(i + 1)"
   ]
  },
  {
   "cell_type": "code",
   "execution_count": null,
   "metadata": {},
   "outputs": [],
   "source": [
    "while False:\n",
    "    print('looping...')\n",
    "# code will print 0 lines"
   ]
  },
  {
   "cell_type": "code",
   "execution_count": null,
   "metadata": {},
   "outputs": [],
   "source": [
    "l = ['x', 'y', 'z']\n",
    "l.insert(1,'w')\n",
    "print(l[2])"
   ]
  },
  {
   "cell_type": "code",
   "execution_count": null,
   "metadata": {},
   "outputs": [],
   "source": []
  }
 ],
 "metadata": {
  "kernelspec": {
   "display_name": "Python 3",
   "language": "python",
   "name": "python3"
  },
  "language_info": {
   "codemirror_mode": {
    "name": "ipython",
    "version": 3
   },
   "file_extension": ".py",
   "mimetype": "text/x-python",
   "name": "python",
   "nbconvert_exporter": "python",
   "pygments_lexer": "ipython3",
   "version": "3.6.4"
  }
 },
 "nbformat": 4,
 "nbformat_minor": 2
}
